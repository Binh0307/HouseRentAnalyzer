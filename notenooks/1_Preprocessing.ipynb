{
  "nbformat": 4,
  "nbformat_minor": 0,
  "metadata": {
    "colab": {
      "provenance": []
    },
    "kernelspec": {
      "name": "python3",
      "display_name": "Python 3"
    },
    "language_info": {
      "name": "python"
    }
  },
  "cells": [
    {
      "cell_type": "markdown",
      "source": [
        "# II. Preprocess Data\n"
      ],
      "metadata": {
        "id": "75T1EyVg50U9"
      }
    },
    {
      "cell_type": "code",
      "execution_count": 54,
      "metadata": {
        "id": "t529L4FB5OpI"
      },
      "outputs": [],
      "source": [
        "import json\n",
        "import numpy as np\n",
        "import pandas as pd\n",
        "import re"
      ]
    },
    {
      "cell_type": "markdown",
      "source": [
        "## 1. Load previos dataset\n"
      ],
      "metadata": {
        "id": "jg0AhV_Q5y2V"
      }
    },
    {
      "cell_type": "code",
      "source": [
        "file_path = 'data/raw_data.json'"
      ],
      "metadata": {
        "id": "1rInj3-X6UtF"
      },
      "execution_count": 7,
      "outputs": []
    },
    {
      "cell_type": "code",
      "source": [
        "with open(file_path, 'r') as file:\n",
        "    data = json.load(file)"
      ],
      "metadata": {
        "id": "lTLnQqSX5u7v"
      },
      "execution_count": 8,
      "outputs": []
    },
    {
      "cell_type": "code",
      "source": [
        "data[0]"
      ],
      "metadata": {
        "colab": {
          "base_uri": "https://localhost:8080/"
        },
        "id": "9MDTOqJ26R75",
        "outputId": "a339bdd6-3281-46ab-f88b-efcda42d2f0d"
      },
      "execution_count": 9,
      "outputs": [
        {
          "output_type": "execute_result",
          "data": {
            "text/plain": [
              "{'property_info': {'Diện tích': '80 m²',\n",
              "  'Mức giá': 'Thỏa thuận',\n",
              "  'Số phòng ngủ': '2 phòng',\n",
              "  'Số toilet': '2 phòng'},\n",
              " 'date_posted': '15/10/2024',\n",
              " 'address': 'Sunrise City, 23,25,27,33, Đường Nguyễn Hữu Thọ, Phường Tân Hưng, Quận 7, Hồ Chí Minh',\n",
              " 'product_details': {'type': '49',\n",
              "  'cate': '326',\n",
              "  'city': 'SG',\n",
              "  'distr': '59',\n",
              "  'wardid': '8759',\n",
              "  'streetid': '458',\n",
              "  'projid': '527',\n",
              "  'priceLevel': '-1',\n",
              "  'areaLevel': '3',\n",
              "  'direction': '-1',\n",
              "  'room': '2'}}"
            ]
          },
          "metadata": {},
          "execution_count": 9
        }
      ]
    },
    {
      "cell_type": "markdown",
      "source": [
        "## 2. Unpack data into a pandas DataFrame:"
      ],
      "metadata": {
        "id": "n5ZKCuIh6nZk"
      }
    },
    {
      "cell_type": "code",
      "source": [
        "df = pd.json_normalize(data, sep='_')"
      ],
      "metadata": {
        "id": "HwRT7etS6e-i"
      },
      "execution_count": 10,
      "outputs": []
    },
    {
      "cell_type": "code",
      "source": [
        "df = df.drop_duplicates()"
      ],
      "metadata": {
        "id": "GmKydsuUHVwe"
      },
      "execution_count": 12,
      "outputs": []
    },
    {
      "cell_type": "code",
      "source": [
        "df.info()"
      ],
      "metadata": {
        "colab": {
          "base_uri": "https://localhost:8080/"
        },
        "id": "hADGRZt17L-1",
        "outputId": "b68f68ce-e21b-4351-b29e-0cdbbd29ed9a"
      },
      "execution_count": 13,
      "outputs": [
        {
          "output_type": "stream",
          "name": "stdout",
          "text": [
            "<class 'pandas.core.frame.DataFrame'>\n",
            "Index: 1602 entries, 0 to 2027\n",
            "Data columns (total 24 columns):\n",
            " #   Column                        Non-Null Count  Dtype \n",
            "---  ------                        --------------  ----- \n",
            " 0   date_posted                   1602 non-null   object\n",
            " 1   address                       1602 non-null   object\n",
            " 2   property_info_Diện tích       1601 non-null   object\n",
            " 3   property_info_Mức giá         1601 non-null   object\n",
            " 4   property_info_Số phòng ngủ    1015 non-null   object\n",
            " 5   property_info_Số toilet       1077 non-null   object\n",
            " 6   product_details_type          1601 non-null   object\n",
            " 7   product_details_cate          1601 non-null   object\n",
            " 8   product_details_city          1601 non-null   object\n",
            " 9   product_details_distr         1601 non-null   object\n",
            " 10  product_details_wardid        1601 non-null   object\n",
            " 11  product_details_streetid      1601 non-null   object\n",
            " 12  product_details_projid        1601 non-null   object\n",
            " 13  product_details_priceLevel    1601 non-null   object\n",
            " 14  product_details_areaLevel     1601 non-null   object\n",
            " 15  product_details_direction     1601 non-null   object\n",
            " 16  product_details_room          1601 non-null   object\n",
            " 17  property_info_Mặt tiền        269 non-null    object\n",
            " 18  property_info_Đường vào       166 non-null    object\n",
            " 19  property_info_Hướng nhà       263 non-null    object\n",
            " 20  property_info_Hướng ban công  206 non-null    object\n",
            " 21  property_info_Pháp lý         389 non-null    object\n",
            " 22  property_info_Nội thất        975 non-null    object\n",
            " 23  property_info_Số tầng         334 non-null    object\n",
            "dtypes: object(24)\n",
            "memory usage: 312.9+ KB\n"
          ]
        }
      ]
    },
    {
      "cell_type": "markdown",
      "source": [
        "Calculate the percentage of missing values for each column"
      ],
      "metadata": {
        "id": "mDt_KK1W9Odc"
      }
    },
    {
      "cell_type": "code",
      "source": [
        "missing_percentage = df.isnull().mean() * 100\n",
        "print(missing_percentage)"
      ],
      "metadata": {
        "colab": {
          "base_uri": "https://localhost:8080/"
        },
        "id": "aMkukhvO9Kwf",
        "outputId": "a8e5cdb2-5182-499f-b66f-dd5508d2f229"
      },
      "execution_count": 14,
      "outputs": [
        {
          "output_type": "stream",
          "name": "stdout",
          "text": [
            "date_posted                      0.000000\n",
            "address                          0.000000\n",
            "property_info_Diện tích          0.062422\n",
            "property_info_Mức giá            0.062422\n",
            "property_info_Số phòng ngủ      36.641698\n",
            "property_info_Số toilet         32.771536\n",
            "product_details_type             0.062422\n",
            "product_details_cate             0.062422\n",
            "product_details_city             0.062422\n",
            "product_details_distr            0.062422\n",
            "product_details_wardid           0.062422\n",
            "product_details_streetid         0.062422\n",
            "product_details_projid           0.062422\n",
            "product_details_priceLevel       0.062422\n",
            "product_details_areaLevel        0.062422\n",
            "product_details_direction        0.062422\n",
            "product_details_room             0.062422\n",
            "property_info_Mặt tiền          83.208489\n",
            "property_info_Đường vào         89.637953\n",
            "property_info_Hướng nhà         83.583021\n",
            "property_info_Hướng ban công    87.141074\n",
            "property_info_Pháp lý           75.717853\n",
            "property_info_Nội thất          39.138577\n",
            "property_info_Số tầng           79.151061\n",
            "dtype: float64\n"
          ]
        }
      ]
    },
    {
      "cell_type": "markdown",
      "source": [
        "We will remove columns that contain similar data, columns that are not necessary, and columns with a missing ratio greater than 50%\n",
        "- product_details_distr\n",
        "- product_details_wardid\n",
        "- product_details_areaLevel\n",
        "- product_details_direction\n",
        "- product_details_streetid\n",
        "- product_details_projid\n",
        "- property_info_Mặt tiền\n",
        "- property_info_Đường vào\n",
        "- property_info_Hướng nhà\n",
        "- property_info_Hướng ban công\n",
        "- property_info_Pháp lý\n",
        "- property_info_Số tầng"
      ],
      "metadata": {
        "id": "ZwvQVvZ88e2E"
      }
    },
    {
      "cell_type": "code",
      "source": [
        "columns_to_remove = [\n",
        "    'product_details_distr',\n",
        "    'product_details_wardid',\n",
        "    'product_details_streetid',\n",
        "    'product_details_direction',\n",
        "    'product_details_areaLevel',\n",
        "    'product_details_projid',\n",
        "    'property_info_Mặt tiền',\n",
        "    'property_info_Đường vào',\n",
        "    'property_info_Hướng nhà',\n",
        "    'property_info_Hướng ban công',\n",
        "    'property_info_Pháp lý',\n",
        "    'property_info_Số tầng'\n",
        "]\n",
        "df = df.drop(columns=[col for col in columns_to_remove if col in df.columns])\n"
      ],
      "metadata": {
        "id": "LT2X3rGQ8E6d"
      },
      "execution_count": 23,
      "outputs": []
    },
    {
      "cell_type": "code",
      "source": [
        "df.info()"
      ],
      "metadata": {
        "colab": {
          "base_uri": "https://localhost:8080/"
        },
        "id": "PD6DemBT8Oeo",
        "outputId": "b16c885e-b241-4af7-f623-bb3295274d5a"
      },
      "execution_count": 24,
      "outputs": [
        {
          "output_type": "stream",
          "name": "stdout",
          "text": [
            "<class 'pandas.core.frame.DataFrame'>\n",
            "Index: 1602 entries, 0 to 2027\n",
            "Data columns (total 12 columns):\n",
            " #   Column              Non-Null Count  Dtype \n",
            "---  ------              --------------  ----- \n",
            " 0   Date Posted         1602 non-null   object\n",
            " 1   Address             1602 non-null   object\n",
            " 2   Area                1601 non-null   object\n",
            " 3   Price               1601 non-null   object\n",
            " 4   Number of Bedrooms  1015 non-null   object\n",
            " 5   Number of Toilets   1077 non-null   object\n",
            " 6   Property Type       1601 non-null   object\n",
            " 7   Category            1601 non-null   object\n",
            " 8   City                1601 non-null   object\n",
            " 9   Price Level         1601 non-null   object\n",
            " 10  Number of Rooms     1601 non-null   object\n",
            " 11  Furniture           975 non-null    object\n",
            "dtypes: object(12)\n",
            "memory usage: 162.7+ KB\n"
          ]
        }
      ]
    },
    {
      "cell_type": "markdown",
      "source": [
        "Now, we will rename the columns"
      ],
      "metadata": {
        "id": "jOUB7Pgn_PuW"
      }
    },
    {
      "cell_type": "code",
      "source": [
        "columns_rename = {\n",
        "    'property_info_Diện tích': 'Area',\n",
        "    'date_posted': 'Date Posted',\n",
        "    'address': 'Address',\n",
        "    'product_details_cate': 'Category',\n",
        "    'property_info_Mức giá': 'Price',\n",
        "    'property_info_Số phòng ngủ': 'Number of Bedrooms',\n",
        "    'property_info_Số toilet': 'Number of Toilets',\n",
        "    'product_details_type': 'Property Type',\n",
        "    'product_details_city': 'City',\n",
        "    'product_details_priceLevel': 'Price Level',\n",
        "    'product_details_room': 'Number of Rooms',\n",
        "    'property_info_Nội thất': 'Furniture'\n",
        "}\n",
        "\n",
        "df = df.rename(columns=columns_rename)"
      ],
      "metadata": {
        "id": "yKh1Rdt7_LZ9"
      },
      "execution_count": 25,
      "outputs": []
    },
    {
      "cell_type": "code",
      "source": [
        "df.info()"
      ],
      "metadata": {
        "colab": {
          "base_uri": "https://localhost:8080/"
        },
        "id": "7fb3GIFG_v_i",
        "outputId": "2ed7c9e3-82b9-4bb5-f77a-7d87685cf056"
      },
      "execution_count": 26,
      "outputs": [
        {
          "output_type": "stream",
          "name": "stdout",
          "text": [
            "<class 'pandas.core.frame.DataFrame'>\n",
            "Index: 1602 entries, 0 to 2027\n",
            "Data columns (total 12 columns):\n",
            " #   Column              Non-Null Count  Dtype \n",
            "---  ------              --------------  ----- \n",
            " 0   Date Posted         1602 non-null   object\n",
            " 1   Address             1602 non-null   object\n",
            " 2   Area                1601 non-null   object\n",
            " 3   Price               1601 non-null   object\n",
            " 4   Number of Bedrooms  1015 non-null   object\n",
            " 5   Number of Toilets   1077 non-null   object\n",
            " 6   Property Type       1601 non-null   object\n",
            " 7   Category            1601 non-null   object\n",
            " 8   City                1601 non-null   object\n",
            " 9   Price Level         1601 non-null   object\n",
            " 10  Number of Rooms     1601 non-null   object\n",
            " 11  Furniture           975 non-null    object\n",
            "dtypes: object(12)\n",
            "memory usage: 162.7+ KB\n"
          ]
        }
      ]
    },
    {
      "cell_type": "markdown",
      "source": [
        "## 3. Preprocessing for category collumns\n"
      ],
      "metadata": {
        "id": "TMYUpgKE_4yv"
      }
    },
    {
      "cell_type": "markdown",
      "source": [
        "### 3.1 City"
      ],
      "metadata": {
        "id": "PK6rXSRHAoUM"
      }
    },
    {
      "cell_type": "code",
      "source": [
        "df['City'].unique()"
      ],
      "metadata": {
        "colab": {
          "base_uri": "https://localhost:8080/"
        },
        "id": "WqQcRTbJ_yCb",
        "outputId": "7b21e7f0-b8a7-4b5a-df9e-674807a23510"
      },
      "execution_count": 27,
      "outputs": [
        {
          "output_type": "execute_result",
          "data": {
            "text/plain": [
              "array(['SG', 'HN', 'BD', 'BN', 'HP', 'LA', 'HY', 'DDN', 'DNA', 'KH', 'CT',\n",
              "       'TH', 'QT', 'VT', 'TG', 'BTH', 'BP', 'QNA', 'BDD', 'BTR', 'HGI',\n",
              "       'TNI', 'TN', 'NA', 'KG', 'VP', 'QNI', 'PY', 'LDD', 'QB', 'TB', nan,\n",
              "       'QNG'], dtype=object)"
            ]
          },
          "metadata": {},
          "execution_count": 27
        }
      ]
    },
    {
      "cell_type": "markdown",
      "source": [
        "We will replace the city code with it name:\n",
        "- SG: Thành phố Hồ Chí Minh\n",
        "- HN: Hà Nội\n",
        "- BD: Bình Dương\n",
        "- BN: Bắc Ninh\n",
        "- HP: Hải Phòng\n",
        "- LA: Long An\n",
        "- HY: Hưng Yên\n",
        "- DDN: Đà Nẵng\n",
        "- DNA: Đồng Nai\n",
        "- KH: Khánh Hòa\n",
        "- CT: Cần Thơ\n",
        "- TH: Thanh Hóa\n",
        "- QT: Quảng Trị\n",
        "- VT: Bà Rịa – Vũng Tàu\n",
        "- TG: Tiền Giang\n",
        "- BTH: Bình Thuận\n",
        "- BP: Bình Phước\n",
        "- QNA: Quảng Nam\n",
        "- BDD: Bình Định\n",
        "- BTR: Bến Tre\n",
        "- HGI: Hậu Giang\n",
        "- TNI: Tây Ninh"
      ],
      "metadata": {
        "id": "kjqMevuOBLMD"
      }
    },
    {
      "cell_type": "code",
      "source": [
        "city_replacement = {\n",
        "    'SG': 'Thành phố Hồ Chí Minh',\n",
        "    'HN': 'Hà Nội',\n",
        "    'BD': 'Bình Dương',\n",
        "    'BN': 'Bắc Ninh',\n",
        "    'HP': 'Hải Phòng',\n",
        "    'LA': 'Long An',\n",
        "    'HY': 'Hưng Yên',\n",
        "    'DDN': 'Đà Nẵng',\n",
        "    'DNA': 'Đồng Nai',\n",
        "    'KH': 'Khánh Hòa',\n",
        "    'CT': 'Cần Thơ',\n",
        "    'TH': 'Thanh Hóa',\n",
        "    'QT': 'Quảng Trị',\n",
        "    'VT': 'Bà Rịa – Vũng Tàu',\n",
        "    'TG': 'Tiền Giang',\n",
        "    'BTH': 'Bình Thuận',\n",
        "    'BP': 'Bình Phước',\n",
        "    'QNA': 'Quảng Nam',\n",
        "    'BDD': 'Bình Định',\n",
        "    'BTR': 'Bến Tre',\n",
        "    'HGI': 'Hậu Giang',\n",
        "    'TNI': 'Tây Ninh'\n",
        "}\n",
        "\n",
        "df['City'] = df['City'].replace(city_replacement)\n"
      ],
      "metadata": {
        "id": "veSm0KHCB_TI"
      },
      "execution_count": 28,
      "outputs": []
    },
    {
      "cell_type": "markdown",
      "source": [
        "Because some cities have too few data, we will only select the top cities with the most information. First, we will check the number of entries for each city."
      ],
      "metadata": {
        "id": "Yqq5LlFcEBEs"
      }
    },
    {
      "cell_type": "code",
      "source": [
        "city_counts = df['City'].value_counts()\n",
        "city_counts.head(3)"
      ],
      "metadata": {
        "colab": {
          "base_uri": "https://localhost:8080/",
          "height": 209
        },
        "id": "mDC7-O9ND_z-",
        "outputId": "18664e0b-7669-4a84-de9b-b603257dd695"
      },
      "execution_count": 31,
      "outputs": [
        {
          "output_type": "execute_result",
          "data": {
            "text/plain": [
              "City\n",
              "Thành phố Hồ Chí Minh    859\n",
              "Hà Nội                   540\n",
              "Bình Dương                63\n",
              "Name: count, dtype: int64"
            ],
            "text/html": [
              "<div>\n",
              "<style scoped>\n",
              "    .dataframe tbody tr th:only-of-type {\n",
              "        vertical-align: middle;\n",
              "    }\n",
              "\n",
              "    .dataframe tbody tr th {\n",
              "        vertical-align: top;\n",
              "    }\n",
              "\n",
              "    .dataframe thead th {\n",
              "        text-align: right;\n",
              "    }\n",
              "</style>\n",
              "<table border=\"1\" class=\"dataframe\">\n",
              "  <thead>\n",
              "    <tr style=\"text-align: right;\">\n",
              "      <th></th>\n",
              "      <th>count</th>\n",
              "    </tr>\n",
              "    <tr>\n",
              "      <th>City</th>\n",
              "      <th></th>\n",
              "    </tr>\n",
              "  </thead>\n",
              "  <tbody>\n",
              "    <tr>\n",
              "      <th>Thành phố Hồ Chí Minh</th>\n",
              "      <td>859</td>\n",
              "    </tr>\n",
              "    <tr>\n",
              "      <th>Hà Nội</th>\n",
              "      <td>540</td>\n",
              "    </tr>\n",
              "    <tr>\n",
              "      <th>Bình Dương</th>\n",
              "      <td>63</td>\n",
              "    </tr>\n",
              "  </tbody>\n",
              "</table>\n",
              "</div><br><label><b>dtype:</b> int64</label>"
            ]
          },
          "metadata": {},
          "execution_count": 31
        }
      ]
    },
    {
      "cell_type": "markdown",
      "source": [
        "Choose 3 cities with the most entries"
      ],
      "metadata": {
        "id": "Vxbvx8YEFKP0"
      }
    },
    {
      "cell_type": "code",
      "source": [
        "selected_cities = [\n",
        "    'Thành phố Hồ Chí Minh',\n",
        "    'Hà Nội',\n",
        "    'Bình Dương',\n",
        "]\n",
        "\n",
        "df = df[df['City'].isin(selected_cities)]"
      ],
      "metadata": {
        "id": "0piPXUtAEpsE"
      },
      "execution_count": 32,
      "outputs": []
    },
    {
      "cell_type": "markdown",
      "source": [
        "We will extract district data from address"
      ],
      "metadata": {
        "id": "F0oZtUv7VKnD"
      }
    },
    {
      "cell_type": "code",
      "source": [
        "districts_hcm = [\n",
        "    'quận 1','quận 2', 'quận 3', 'quận 4', 'quận 5', 'quận 6',\n",
        "    'quận 7', 'quận 8','quận 9', 'quận 10', 'quận 11', 'quận 12',\n",
        "    'tân bình', 'bình tân', 'bình thạnh',\n",
        "    'tân phú', 'gò vấp', 'phú nhuận',\n",
        "    'bình chánh', 'hóc môn', 'cần giờ',\n",
        "    'củ chi', 'nhà bè', 'thủ đức'\n",
        "]"
      ],
      "metadata": {
        "id": "XEWwFEbZFWgm"
      },
      "execution_count": 33,
      "outputs": []
    },
    {
      "cell_type": "code",
      "source": [
        "districts_hn = [\n",
        "    'ba đình', 'cầu giấy', 'đống đa', 'hai bà trưng', 'hoàn kiếm',\n",
        "    'thanh xuân', 'hoàng mai', 'long biên', 'hà đông', 'tây hồ',\n",
        "    'nam từ liêm', 'bắc từ liêm',\n",
        "    'thanh trì', 'ba vì', 'đan phượng', 'gia lâm', 'đông anh',\n",
        "    'thường tín', 'thanh oai', 'chương mỹ', 'hoài đức', 'mỹ đức',\n",
        "    'phúc thọ', 'thạch thất', 'quốc oai', 'phú xuyên', 'ứng hòa',\n",
        "    'mê linh', 'sóc sơn',\n",
        "    'sơn tây'\n",
        "]"
      ],
      "metadata": {
        "id": "YEdxuGEwRHNs"
      },
      "execution_count": 34,
      "outputs": []
    },
    {
      "cell_type": "code",
      "source": [
        "districts_bd = [\n",
        "    'thuận an',\n",
        "    'tân uyên',\n",
        "    'dĩ an',\n",
        "    'bến cát',\n",
        "    'thủ dầu một',\n",
        "    'dầu tiếng',\n",
        "    'bàu bàng',\n",
        "    'phú giáo',\n",
        "    'bắc tân uyên'\n",
        "]"
      ],
      "metadata": {
        "id": "60wdCQxuTUKx"
      },
      "execution_count": 35,
      "outputs": []
    },
    {
      "cell_type": "code",
      "source": [
        "\n",
        "def extract_district(address, districts):\n",
        "    address_lower = address.lower()\n",
        "    for district in districts:\n",
        "        if district in address_lower:\n",
        "            return district.capitalize()\n",
        "    return None"
      ],
      "metadata": {
        "id": "U77hCnCBJXcZ"
      },
      "execution_count": 36,
      "outputs": []
    },
    {
      "cell_type": "code",
      "source": [
        "df_test = df.copy()\n",
        "all_districts = districts_hcm + districts_hn + districts_bd\n",
        "df_test['District'] = df_test['Address'].apply(extract_district, args=(all_districts,))\n",
        "df_test['District'].unique()"
      ],
      "metadata": {
        "colab": {
          "base_uri": "https://localhost:8080/"
        },
        "id": "Ap4bG7z9SAam",
        "outputId": "b8428c19-b2fd-4f47-84aa-d914fe421eb6"
      },
      "execution_count": 37,
      "outputs": [
        {
          "output_type": "execute_result",
          "data": {
            "text/plain": [
              "array(['Quận 7', 'Đống đa', 'Thuận an', 'Gia lâm', 'Cầu giấy',\n",
              "       'Bắc từ liêm', 'Quận 2', 'Quận 1', 'Hai bà trưng', 'Bình thạnh',\n",
              "       'Thanh xuân', 'Tây hồ', 'Tân bình', 'Nam từ liêm', 'Hoàng mai',\n",
              "       'Dĩ an', 'Nhà bè', 'Ba đình', 'Thanh trì', 'Thủ dầu một',\n",
              "       'Bình tân', 'Quận 9', 'Phú nhuận', 'Thủ đức', 'Tân phú', 'Hà đông',\n",
              "       'Bình chánh', 'Long biên', 'Hoàn kiếm', 'Đông anh', 'Gò vấp',\n",
              "       'Quận 5', 'Quận 3', 'Hoài đức', 'Thường tín', 'Quận 4', 'Quốc oai',\n",
              "       'Quận 8', 'Thạch thất', 'Mê linh', 'Củ chi', 'Bến cát', 'Quận 6',\n",
              "       'Bàu bàng', 'Tân uyên', 'Hóc môn', 'Chương mỹ', 'Phú giáo'],\n",
              "      dtype=object)"
            ]
          },
          "metadata": {},
          "execution_count": 37
        }
      ]
    },
    {
      "cell_type": "code",
      "source": [
        "missing_districts = df_test[df_test['District'].isnull()]\n",
        "missing_districts"
      ],
      "metadata": {
        "colab": {
          "base_uri": "https://localhost:8080/",
          "height": 89
        },
        "id": "-0neosX4JbY0",
        "outputId": "de5d78e4-7cdd-482b-9f59-df631a9b8a0e"
      },
      "execution_count": 38,
      "outputs": [
        {
          "output_type": "execute_result",
          "data": {
            "text/plain": [
              "Empty DataFrame\n",
              "Columns: [Date Posted, Address, Area, Price, Number of Bedrooms, Number of Toilets, Property Type, Category, City, Price Level, Number of Rooms, Furniture, District]\n",
              "Index: []"
            ],
            "text/html": [
              "\n",
              "  <div id=\"df-3aa38e08-d4d1-4774-85ff-221829dc586f\" class=\"colab-df-container\">\n",
              "    <div>\n",
              "<style scoped>\n",
              "    .dataframe tbody tr th:only-of-type {\n",
              "        vertical-align: middle;\n",
              "    }\n",
              "\n",
              "    .dataframe tbody tr th {\n",
              "        vertical-align: top;\n",
              "    }\n",
              "\n",
              "    .dataframe thead th {\n",
              "        text-align: right;\n",
              "    }\n",
              "</style>\n",
              "<table border=\"1\" class=\"dataframe\">\n",
              "  <thead>\n",
              "    <tr style=\"text-align: right;\">\n",
              "      <th></th>\n",
              "      <th>Date Posted</th>\n",
              "      <th>Address</th>\n",
              "      <th>Area</th>\n",
              "      <th>Price</th>\n",
              "      <th>Number of Bedrooms</th>\n",
              "      <th>Number of Toilets</th>\n",
              "      <th>Property Type</th>\n",
              "      <th>Category</th>\n",
              "      <th>City</th>\n",
              "      <th>Price Level</th>\n",
              "      <th>Number of Rooms</th>\n",
              "      <th>Furniture</th>\n",
              "      <th>District</th>\n",
              "    </tr>\n",
              "  </thead>\n",
              "  <tbody>\n",
              "  </tbody>\n",
              "</table>\n",
              "</div>\n",
              "    <div class=\"colab-df-buttons\">\n",
              "\n",
              "  <div class=\"colab-df-container\">\n",
              "    <button class=\"colab-df-convert\" onclick=\"convertToInteractive('df-3aa38e08-d4d1-4774-85ff-221829dc586f')\"\n",
              "            title=\"Convert this dataframe to an interactive table.\"\n",
              "            style=\"display:none;\">\n",
              "\n",
              "  <svg xmlns=\"http://www.w3.org/2000/svg\" height=\"24px\" viewBox=\"0 -960 960 960\">\n",
              "    <path d=\"M120-120v-720h720v720H120Zm60-500h600v-160H180v160Zm220 220h160v-160H400v160Zm0 220h160v-160H400v160ZM180-400h160v-160H180v160Zm440 0h160v-160H620v160ZM180-180h160v-160H180v160Zm440 0h160v-160H620v160Z\"/>\n",
              "  </svg>\n",
              "    </button>\n",
              "\n",
              "  <style>\n",
              "    .colab-df-container {\n",
              "      display:flex;\n",
              "      gap: 12px;\n",
              "    }\n",
              "\n",
              "    .colab-df-convert {\n",
              "      background-color: #E8F0FE;\n",
              "      border: none;\n",
              "      border-radius: 50%;\n",
              "      cursor: pointer;\n",
              "      display: none;\n",
              "      fill: #1967D2;\n",
              "      height: 32px;\n",
              "      padding: 0 0 0 0;\n",
              "      width: 32px;\n",
              "    }\n",
              "\n",
              "    .colab-df-convert:hover {\n",
              "      background-color: #E2EBFA;\n",
              "      box-shadow: 0px 1px 2px rgba(60, 64, 67, 0.3), 0px 1px 3px 1px rgba(60, 64, 67, 0.15);\n",
              "      fill: #174EA6;\n",
              "    }\n",
              "\n",
              "    .colab-df-buttons div {\n",
              "      margin-bottom: 4px;\n",
              "    }\n",
              "\n",
              "    [theme=dark] .colab-df-convert {\n",
              "      background-color: #3B4455;\n",
              "      fill: #D2E3FC;\n",
              "    }\n",
              "\n",
              "    [theme=dark] .colab-df-convert:hover {\n",
              "      background-color: #434B5C;\n",
              "      box-shadow: 0px 1px 3px 1px rgba(0, 0, 0, 0.15);\n",
              "      filter: drop-shadow(0px 1px 2px rgba(0, 0, 0, 0.3));\n",
              "      fill: #FFFFFF;\n",
              "    }\n",
              "  </style>\n",
              "\n",
              "    <script>\n",
              "      const buttonEl =\n",
              "        document.querySelector('#df-3aa38e08-d4d1-4774-85ff-221829dc586f button.colab-df-convert');\n",
              "      buttonEl.style.display =\n",
              "        google.colab.kernel.accessAllowed ? 'block' : 'none';\n",
              "\n",
              "      async function convertToInteractive(key) {\n",
              "        const element = document.querySelector('#df-3aa38e08-d4d1-4774-85ff-221829dc586f');\n",
              "        const dataTable =\n",
              "          await google.colab.kernel.invokeFunction('convertToInteractive',\n",
              "                                                    [key], {});\n",
              "        if (!dataTable) return;\n",
              "\n",
              "        const docLinkHtml = 'Like what you see? Visit the ' +\n",
              "          '<a target=\"_blank\" href=https://colab.research.google.com/notebooks/data_table.ipynb>data table notebook</a>'\n",
              "          + ' to learn more about interactive tables.';\n",
              "        element.innerHTML = '';\n",
              "        dataTable['output_type'] = 'display_data';\n",
              "        await google.colab.output.renderOutput(dataTable, element);\n",
              "        const docLink = document.createElement('div');\n",
              "        docLink.innerHTML = docLinkHtml;\n",
              "        element.appendChild(docLink);\n",
              "      }\n",
              "    </script>\n",
              "  </div>\n",
              "\n",
              "\n",
              "  <div id=\"id_e81d517f-9582-4457-980d-a47b5d9fdca8\">\n",
              "    <style>\n",
              "      .colab-df-generate {\n",
              "        background-color: #E8F0FE;\n",
              "        border: none;\n",
              "        border-radius: 50%;\n",
              "        cursor: pointer;\n",
              "        display: none;\n",
              "        fill: #1967D2;\n",
              "        height: 32px;\n",
              "        padding: 0 0 0 0;\n",
              "        width: 32px;\n",
              "      }\n",
              "\n",
              "      .colab-df-generate:hover {\n",
              "        background-color: #E2EBFA;\n",
              "        box-shadow: 0px 1px 2px rgba(60, 64, 67, 0.3), 0px 1px 3px 1px rgba(60, 64, 67, 0.15);\n",
              "        fill: #174EA6;\n",
              "      }\n",
              "\n",
              "      [theme=dark] .colab-df-generate {\n",
              "        background-color: #3B4455;\n",
              "        fill: #D2E3FC;\n",
              "      }\n",
              "\n",
              "      [theme=dark] .colab-df-generate:hover {\n",
              "        background-color: #434B5C;\n",
              "        box-shadow: 0px 1px 3px 1px rgba(0, 0, 0, 0.15);\n",
              "        filter: drop-shadow(0px 1px 2px rgba(0, 0, 0, 0.3));\n",
              "        fill: #FFFFFF;\n",
              "      }\n",
              "    </style>\n",
              "    <button class=\"colab-df-generate\" onclick=\"generateWithVariable('missing_districts')\"\n",
              "            title=\"Generate code using this dataframe.\"\n",
              "            style=\"display:none;\">\n",
              "\n",
              "  <svg xmlns=\"http://www.w3.org/2000/svg\" height=\"24px\"viewBox=\"0 0 24 24\"\n",
              "       width=\"24px\">\n",
              "    <path d=\"M7,19H8.4L18.45,9,17,7.55,7,17.6ZM5,21V16.75L18.45,3.32a2,2,0,0,1,2.83,0l1.4,1.43a1.91,1.91,0,0,1,.58,1.4,1.91,1.91,0,0,1-.58,1.4L9.25,21ZM18.45,9,17,7.55Zm-12,3A5.31,5.31,0,0,0,4.9,8.1,5.31,5.31,0,0,0,1,6.5,5.31,5.31,0,0,0,4.9,4.9,5.31,5.31,0,0,0,6.5,1,5.31,5.31,0,0,0,8.1,4.9,5.31,5.31,0,0,0,12,6.5,5.46,5.46,0,0,0,6.5,12Z\"/>\n",
              "  </svg>\n",
              "    </button>\n",
              "    <script>\n",
              "      (() => {\n",
              "      const buttonEl =\n",
              "        document.querySelector('#id_e81d517f-9582-4457-980d-a47b5d9fdca8 button.colab-df-generate');\n",
              "      buttonEl.style.display =\n",
              "        google.colab.kernel.accessAllowed ? 'block' : 'none';\n",
              "\n",
              "      buttonEl.onclick = () => {\n",
              "        google.colab.notebook.generateWithVariable('missing_districts');\n",
              "      }\n",
              "      })();\n",
              "    </script>\n",
              "  </div>\n",
              "\n",
              "    </div>\n",
              "  </div>\n"
            ],
            "application/vnd.google.colaboratory.intrinsic+json": {
              "type": "dataframe",
              "variable_name": "missing_districts",
              "repr_error": "Out of range float values are not JSON compliant: nan"
            }
          },
          "metadata": {},
          "execution_count": 38
        }
      ]
    },
    {
      "cell_type": "code",
      "source": [
        "all_districts = districts_hcm + districts_hn + districts_bd\n",
        "df['District'] = df['Address'].apply(extract_district, args=(all_districts,))"
      ],
      "metadata": {
        "id": "f1LazXVjJf4k"
      },
      "execution_count": 39,
      "outputs": []
    },
    {
      "cell_type": "markdown",
      "source": [
        "### 3.2 Property Type"
      ],
      "metadata": {
        "id": "Z-W_KjU2VXmW"
      }
    },
    {
      "cell_type": "markdown",
      "source": [
        "We'll identify the unique values in the 'Property Type' column"
      ],
      "metadata": {
        "id": "ZdrES6CuYNtF"
      }
    },
    {
      "cell_type": "code",
      "source": [
        "df['Property Type'].unique()"
      ],
      "metadata": {
        "colab": {
          "base_uri": "https://localhost:8080/"
        },
        "id": "SDgAWECWJroQ",
        "outputId": "a4084f6e-9adf-4fc8-9085-5e1fecba1f42"
      },
      "execution_count": 40,
      "outputs": [
        {
          "output_type": "execute_result",
          "data": {
            "text/plain": [
              "array(['49'], dtype=object)"
            ]
          },
          "metadata": {},
          "execution_count": 40
        }
      ]
    },
    {
      "cell_type": "markdown",
      "source": [
        "Remove columns from the DataFrame t"
      ],
      "metadata": {
        "id": "FwnbGvthZhj2"
      }
    },
    {
      "cell_type": "code",
      "source": [
        "df = df.drop(columns=['Property Type'])"
      ],
      "metadata": {
        "id": "eGF2yKmhYY8n"
      },
      "execution_count": 41,
      "outputs": []
    },
    {
      "cell_type": "markdown",
      "source": [
        "### 3.3 Category"
      ],
      "metadata": {
        "id": "IUUIgW6gaFdE"
      }
    },
    {
      "cell_type": "markdown",
      "source": [
        "We'll identify the unique values in the 'Category' column"
      ],
      "metadata": {
        "id": "uxV9D0TiaI08"
      }
    },
    {
      "cell_type": "code",
      "source": [
        "df['Category'].unique()"
      ],
      "metadata": {
        "colab": {
          "base_uri": "https://localhost:8080/"
        },
        "id": "dPoMZYc1aEu4",
        "outputId": "fb349359-11a1-481d-b731-0d77602b1a39"
      },
      "execution_count": 42,
      "outputs": [
        {
          "output_type": "execute_result",
          "data": {
            "text/plain": [
              "array(['326', '50', '651', '53', '576', '52', '51', '55', '577', '57'],\n",
              "      dtype=object)"
            ]
          },
          "metadata": {},
          "execution_count": 42
        }
      ]
    },
    {
      "cell_type": "code",
      "source": [
        "for category in df['Category'].unique():\n",
        "\n",
        "    first_address = df[df['Category'] == category].iloc[1]['Address']\n",
        "\n",
        "    print(f\"Category: {category}, First Address: {first_address}\")"
      ],
      "metadata": {
        "colab": {
          "base_uri": "https://localhost:8080/"
        },
        "id": "Bwblkz48KN-2",
        "outputId": "8befa9a6-5d70-4b5a-91da-3db47b928af6"
      },
      "execution_count": 45,
      "outputs": [
        {
          "output_type": "stream",
          "name": "stdout",
          "text": [
            "Category: 326, First Address: Dự án Opal Skyline, Đường Nguyễn Văn Tiết, Phường Lái Thiêu, Thuận An, Bình Dương\n",
            "Category: 50, First Address: Charmvit Tower, Trần Duy Hưng, Trung Hòa, Cầu Giấy, Hà Nội\n",
            "Category: 651, First Address: Đường Hoàng Văn Thụ, Phường 4, Tân Bình, Hồ Chí Minh\n",
            "Category: 53, First Address: Đường Phan Trọng Tuệ, Xã Vĩnh Quỳnh, Thanh Trì, Hà Nội\n",
            "Category: 576, First Address: Dự án Roman Plaza, Đường Tố Hữu, Phường Đại Mỗ, Nam Từ Liêm, Hà Nội\n",
            "Category: 52, First Address: Số 16a ngõ 523, Phố Kim Mã, Phường Ngọc Khánh, Ba Đình, Hà Nội\n",
            "Category: 51, First Address: Đường Trịnh Văn Bô, Phường Phương Canh, Nam Từ Liêm, Hà Nội.\n",
            "Category: 55, First Address: Dự án Cantavil An Phú, Đường Song Hành, Phường An Phú, Quận 2, Hồ Chí Minh\n",
            "Category: 577, First Address: Him Lam Kênh Tẻ, 66, Đường 8, Phường Tân Hưng, Quận 7, Hồ Chí Minh\n",
            "Category: 57, First Address: Ngõ 50, Đường Mễ Trì Thượng, Phường Mễ Trì, Nam Từ Liêm, Hà Nội\n"
          ]
        }
      ]
    },
    {
      "cell_type": "markdown",
      "source": [
        "After research, i know\n",
        "\n",
        "\n"
      ],
      "metadata": {
        "id": "bobSnVdNaU90"
      }
    },
    {
      "cell_type": "markdown",
      "source": [
        "'326' → 'Căn hộ chung cư'   \n",
        "'50' → 'Văn phòng'  \n",
        "'651' → 'Chung cư mini, căn hộ dịch vụ'   \n",
        "'53' → 'Kho, nhà xưởng, đất'  \n",
        "'576' → 'Shophouse nhà phố thương mại'\n",
        "'52' → 'Nhà riêng'   \n",
        "'51' → 'Nhà mặt phố'  \n",
        "'55' → 'Cửa hàng, ki ốt'  \n",
        "'577' → 'Nhà biệt thự, liền kề'  \n",
        "'57' → 'Nhà trọ, phòng trọ'\n",
        "\n"
      ],
      "metadata": {
        "id": "o7uu3-M2OY0-"
      }
    },
    {
      "cell_type": "markdown",
      "source": [],
      "metadata": {
        "id": "z74BgPAHOWSd"
      }
    },
    {
      "cell_type": "code",
      "source": [
        "category = [\n",
        "    'Căn hộ chung cư',                # '326'\n",
        "    'Văn phòng',                       # '50'\n",
        "    'Chung cư mini, căn hộ dịch vụ',  # '651'\n",
        "    'Kho, nhà xưởng, đất',            # '53'\n",
        "    'Shophouse nhà phố thương mại',    # '576'\n",
        "    'Nhà riêng',                       # '52'\n",
        "    'Nhà mặt phố',                     # '51'\n",
        "    'Cửa hàng, ki ốt',                # '55'\n",
        "    'Nhà biệt thự, liền kề',          # '577'\n",
        "    'Nhà trọ, phòng trọ'              # '57'\n",
        "]\n",
        "\n",
        "\n",
        "category_dict = {\n",
        "    '326': category[0],  # Căn hộ chung cư\n",
        "    '50': category[1],   # Văn phòng\n",
        "    '651': category[2],  # Chung cư mini, căn hộ dịch vụ\n",
        "    '53': category[3],   # Kho, nhà xưởng, đất\n",
        "    '576': category[4],  # Shophouse nhà phố thương mại\n",
        "    '52': category[5],   # Nhà riêng\n",
        "    '51': category[6],   # Nhà mặt phố\n",
        "    '55': category[7],   # Cửa hàng, ki ốt\n",
        "    '577': category[8],  # Nhà biệt thự, liền kề\n",
        "    '57': category[9]    # Nhà trọ, phòng trọ\n",
        "}"
      ],
      "metadata": {
        "id": "KUvdHNT8aRig"
      },
      "execution_count": 46,
      "outputs": []
    },
    {
      "cell_type": "code",
      "source": [
        "df['Category'] = df['Category'].replace(category_dict)"
      ],
      "metadata": {
        "id": "y2lron2QbC4J"
      },
      "execution_count": 47,
      "outputs": []
    },
    {
      "cell_type": "code",
      "source": [
        "df['Category'].unique()"
      ],
      "metadata": {
        "colab": {
          "base_uri": "https://localhost:8080/"
        },
        "id": "cwjl3nsjbL_q",
        "outputId": "3d4a2136-02ec-429c-d863-f9c72ef2b75a"
      },
      "execution_count": 48,
      "outputs": [
        {
          "output_type": "execute_result",
          "data": {
            "text/plain": [
              "array(['Căn hộ chung cư', 'Văn phòng', 'Chung cư mini, căn hộ dịch vụ',\n",
              "       'Kho, nhà xưởng, đất', 'Shophouse nhà phố thương mại', 'Nhà riêng',\n",
              "       'Nhà mặt phố', 'Cửa hàng, ki ốt', 'Nhà biệt thự, liền kề',\n",
              "       'Nhà trọ, phòng trọ'], dtype=object)"
            ]
          },
          "metadata": {},
          "execution_count": 48
        }
      ]
    },
    {
      "cell_type": "markdown",
      "source": [
        "### 3.4 Furniture"
      ],
      "metadata": {
        "id": "jZk_bHFTbacN"
      }
    },
    {
      "cell_type": "code",
      "source": [
        "df['Furniture'].unique()"
      ],
      "metadata": {
        "colab": {
          "base_uri": "https://localhost:8080/"
        },
        "id": "mPNfWvdFbNss",
        "outputId": "ee2961f9-96fe-4494-811f-d5e09cdef607"
      },
      "execution_count": 49,
      "outputs": [
        {
          "output_type": "execute_result",
          "data": {
            "text/plain": [
              "array([nan, 'Cơ bản', 'Đầy đủ', 'Đầy đủ.',\n",
              "       'Từ nội thất nguyên bản chủ đầu tư - Cơ bản - Đầy đủ.',\n",
              "       'Full nội thất cao cấp mới 100% máy lạnh, bếp, máy nước nóng, tủ đồ âm tường.',\n",
              "       'Cơ bản.', 'Full nội thất cao cấp', 'Nội thất châu Âu cao cấp',\n",
              "       'Nội thất cao cấp từ CĐT: full hệ tủ quần áo, tủ giày, smart home contro, toilét thông minh, máy giặt-sấy, styler, máy rửa chén, full hệ bếp cao cấp, máy lạnh, tủ lạnh...',\n",
              "       'Thang máy, điều hòa âm trần, trần thạch cao, hầm để xe, PCCC đầy đủ',\n",
              "       'Đầy đủ nội thất.', 'Full đồ.', 'NT cơ bản.',\n",
              "       'Cơ bản có rèm + bếp từ + máy hút mùi.',\n",
              "       'Cơ bản - Nội thất đầy đủ: Bàn bếp, tủ bếp, bếp từ, rèm, giá phơi, giường tủ, sofa, tivi.',\n",
              "       'Nội thất hoàn thiện của chủ đầu tư: Sàn gỗ, trần thạch cao, hệ thống chiếu sáng, hệ thống bếp cao cấp, điều hòa âm trần Mitsubishi, tủ âm tường. Full nội thất: Sofa, giường, bàn ăn, tivi, tủ lạnh.',\n",
              "       'Đầy đủ nội thất', 'Không nội thất',\n",
              "       '- Phòng họp trang bị đầy đủ máy chiếu, bảng bút... - Sử dụng các thiết bị văn phòng: Điện thoại, máy in, photocopy..',\n",
              "       'Đầy đủ đồ', 'NTCB.', 'Cơ Bản',\n",
              "       'Full nội thất và nội thất cơ bản.', 'Nội thất cơ bản',\n",
              "       'Đầy đủ - Căn nguyên bản: Trang thiết bị vệ sinh, điều hòa phòng ngủ và phòng khách. (phù hợp làm kinh doanh, văn phòng hoặc để ở).',\n",
              "       'Cơ bản nội thất: Đầy đủ nội thất: Tivi, máy giặt, tủ lạnh, sofa, giường, tủ quần áo, máy lạnh,...',\n",
              "       'Giường, Tủ quần áo 3 cánh, mới, bàn bếp, điều hòa âm trần, tủ lạnh. Khép kín. Phòng ở tầng 2. Thang máy và thang bộ chủ động. Đồ dùng có thể setup thêm nếu người thuê yêu cầu, cả nhà chỉ có 5 phòng và',\n",
              "       'Full đồ nội thất chỉ việc sách va li tới ở.',\n",
              "       'Nội thất hoàn thiện của chủ đầu tư: Sàn gỗ, trần thạch cao, hệ thống chiếu sáng, hệ thống bếp cao cấp, điều hòa âm trần Mitsubishi, tủ âm tường. - Full nội thất: Sofa, giường, bàn ăn, tivi, tủ lạnh',\n",
              "       'Full nội thất.',\n",
              "       'Bệ bếp, chậu rửa, nóng lạnh, điều hoà, giường tủ.',\n",
              "       'Máy lạnh - thang máy - máy phát điện.',\n",
              "       'Đầy đủ nội thất của 1 office chuẩn, máy lạnh, thang máy, máy phát điện.',\n",
              "       'Máy lạnh, thang máy.', 'Nội thất cơ bản: Rèm cửa, máy lạnh, bếp.',\n",
              "       'Full đồ nội thất.',\n",
              "       '- Full Nội thất: Tủ lạnh, máy lạnh, máy giặt, Tủ quần áo, tử bếp, bếp từ,... ..',\n",
              "       'cao cấp', 'Full nội thất như hình.', 'Nội thất cơ bản.',\n",
              "       'Nội thất cơ bản: Bếp, rèm, máy lạnh.',\n",
              "       'Đầy đủ nội thất cơ bản full mới, hiện đại.', 'Đầy đủ đồ.',\n",
              "       'Nội thất cao cấp', 'Full nội thất', 'Nhà trống.',\n",
              "       'Cơ bản Căn hộ có đồ cơ bản: Điều hòa, nóng lạnh, rèm cửa... Phù hợp làm văn phòng công ty.',\n",
              "       'Đầy đủ đồ đạc, máy lạnh, bàn ghế, tủ đồ, tủ lạnh, lò vi sóng, máy in, máy chiếu',\n",
              "       'Nhà bàn giao hoàn thiện cơ bản.', 'NTCB - Đầy đủ',\n",
              "       'Nội thất: Full nội thất cao cấp.', 'Tất cả nhu cầu.',\n",
              "       'Đầy đủ điều hòa rèm cửa đủ bộ, tủ bếp..',\n",
              "       '4 máy lạnh Bếp điện - máy hút mùi 01 máy nước nóng',\n",
              "       '- Full nội thất.', 'Full nội thất đầy đủ', 'Đầy đủ nội thất đẹp.',\n",
              "       'Chưa hoàn thiện',\n",
              "       'Đầy đủ. + Nội thất đầy đủ, chỉ việc dọn vào ở ngay. Căn hộ được trang bị đầy đủ tiện nghi.',\n",
              "       '+ Nội thất cơ bản: Bếp, rèm, máy lạnh.', 'Nội thất cao cấp.',\n",
              "       'Đầy đủ Ti vi, tủ lạnh, điều hoà, bàn ghế, bàn ăn, giường tủ đầy đủ các phòng. Ti vi, tủ lạnh, điều hoà, bàn ghế, bàn ăn, giường tủ đầy đủ các phòng.',\n",
              "       'Nội thất setup bao gồm: Full nội thất, giường tủ, bàn ăn, 2 điều hòa nóng lạnh, tủ bếp, bếp từ, tủ đồ, tủ lạnh, Tivi...',\n",
              "       'Full nội thất, đồ điện tử xịn. Trang bị máy lọc nước, TV 65 inch, đệm lò xo cao cấp 23 cm.',\n",
              "       'Tivi, điều hòa, tủ lạnh, lò vi sóng, bình nóng lạnh, máy giặt, giường, chăn ga gối đệm, tủ quần áo, bàn trang điểm, bàn ăn, tủ bếp, bếp từ đôi âm, hút mùi, đầy đủ đồ dùng nấu ăn, bát đĩa, cốc chén.',\n",
              "       'Đầy đủ - Đồ cơ bản.', 'Full nội thất như hình', 'Đồ cơ bản.',\n",
              "       '+ Phòng khách: Sofa, tivi. + Bếp: Bàn ăn, tủ lạnh, bếp từ,...',\n",
              "       'Đầy đủ - Cao cấp', 'Nội thất đầy đủ.', 'Máy lạnh, tủ kệ bếp...',\n",
              "       'Nội thất mới 100% gồm: Giường, tủ, bàn làm việc, tủ bếp, bếp từ âm, tủ lạnh, máy lạnh, máy giặt chung, truyền hình cáp, Wifi.',\n",
              "       '- Nhà bếp riêng biệt: Bếp điện từ, máy hút mùi, chậu rửa đôi thương hiệu Hafele, tủ bếp trên - dưới. - Tường, trần thạch cao sơn nước trắng, hệ thống đèn chiếu sáng hiện đại. - Sàn gạch bóng 60x60cm.',\n",
              "       '2 điều hòa, 2 bình nóng lạnh, sofa, bàn ăn, 2 giường sẵn đệm gối, rèm cửa đủ 3 cửa, kệ chén bát',\n",
              "       'Đã được trang bị đầy đủ nội thất.',\n",
              "       'Đầy đủ giường tủ, bàn ghế, điều hòa, máy giặt',\n",
              "       'Hoàn thiện cao cấp, vệ sinh đầy đủ tiện nghi.',\n",
              "       'Nhà mới đầy đủ đồ dùng nội thất: Có nóng lạnh, điều hòa 2 chiều, giường tủ, bàn ghế, tivi, tủ lạnh, cây nước, hệ thống tủ bếp hai tầng, lò vi sóng và toàn bộ dụng cụ nấu ăn, vòi tắm hoa sen...',\n",
              "       'Giường, tủ, máy giặt từng tầng, điều hòa Daikin tiết kiệm điện tối đa, điều hòa, tủ lạnh.',\n",
              "       'Nguyên bản.', 'Đầy đủ sẵn ở ngay.', 'Full.',\n",
              "       'Nhà nguyên bản nhận từ chủ đầu tư đã có điều hòa, nóng lạnh hoặc có thêm tủ bếp, rèm, giàn phơi ngoài ra có cả căn đã lắp đầy đủ nội thất và tiện nghi như ti vi, tủ lạnh, máy giặt, sofa, bàn ăn...',\n",
              "       'Phòng thất từ bản chủ tư đến cơ bản.',\n",
              "       'Nội Thất: Full 4 bộ Giường, Tủ Quần Áo, nệm, Sofa, 4 Máy Lạnh, Bếp âm, Máy hút Mùi, NLMT. Thang máy 460kg.',\n",
              "       'Đầy đủ trang bị full nội thất, đồ dùng, tủ lạnh, giặt, sấy, nóng lạnh, đủ điều hòa, thiết bị vệ sinh, rèm cửa...',\n",
              "       'Full nội thất đẹp.', 'Đủ đồ',\n",
              "       'Nội thất cơ bản: Rèm, máy lạnh, máy nước nóng, giàn phơi.',\n",
              "       'Đầy đủ cao cấp.',\n",
              "       'Đầy đủ: Sàn gỗ, điều hoà, nóng lạnh, tủ lạnh, wifi riêng, bếp từ, bàn trang điểm, đệm chăn ga gối, bát nồi,...',\n",
              "       'Nội thất đầy đủ', '- Nội thất cao cấp, mới 100%.',\n",
              "       'Tủ và bếp âm tường', 'Có sẵn máy lạnh.', 'Xem trên hình.',\n",
              "       'Nội thất: 2 Máy Lạnh, Tủ lạnh, 2 giường, 2 tủ đồ, kệ bếp, nóng lạnh.',\n",
              "       'Tất cả thiết bị nội thất trong nhà đều cao cấp.',\n",
              "       'Nội thất: Đồ nội thất đầy đủ - full option, xách vali vào ở luôn.',\n",
              "       'Đẩy đủ', 'Trang thiết bị nội thất đầy đủ.',\n",
              "       'Máy lạnh, thang máy, máy phát điện...',\n",
              "       'Máy lạnh, thang máy, máy phát điện.',\n",
              "       'Thang máy, máy phát điện, máy lạnh...', 'Full',\n",
              "       'Nội thất nhập khẩu hiện đại.',\n",
              "       'ML, bếp, tủ bếp, máy nước nóng...',\n",
              "       'Lắp đặt nội thất theo yêu cầu: Máy lạnh, tủ lạnh, máy giặt, bếp, giường, tủ quần áo, bàn ăn, sofa, ti vi, máy nước nóng...',\n",
              "       'Không nội thất.', 'Giường tủ điều hòa, nóng lạnh đủ.',\n",
              "       'Đầy đủ nội thất, điều hoà tất cả các tầng, bếp từ, đồ decor trang trí...',\n",
              "       'Hoàn thiện cơ bản hoặc full đồ.',\n",
              "       'Đầy đủ Nội thất đầy đủ: Có thêm tivi, tủ lạnh, máy giặt, giường, đệm, tủ quần áo, sofa, bàn ăn, lò vi sóng, hệ thống điều hòa hòa, tủ bếp, nóng lạnh.',\n",
              "       '- Full điều hòa, nóng lạnh. - Thang máy nhập ngoại.',\n",
              "       'Nội thất cơ bản - full đồ.',\n",
              "       'Cơ bản full nội thất (ngoại trừ giường), có nước nóng năng lượng mặt trời.',\n",
              "       'Full nội thất cao cấp.', 'Cơ bản, điều hòa, bếp, nóng lạnh.',\n",
              "       'Điều hòa 2 chiều Daikin, hệ thống trần thạch cao, hệ thống tủ bếp, bếp từ cao cấp, tivi, tủ lạnh, máy giặt, sofa nhập khẩu,...',\n",
              "       'Thiết bị nội thất nhập khẩu hiện đại: Tivi 55inch, sofa, điều hòa Aikido, tủ lạnh side by side, sàn gỗ, máy giặt, hệ thống bếp, tủ bếp, tủ âm tường, giường, bàn ăn...',\n",
              "       'Cơ bản Nhà mới, thiết kế hiện đại, các tầng thông sàn cầu thang máy cuối nhà, nhà đầy đủ điều hòa nóng lạnh, đèn lép trần thạch cao,...',\n",
              "       'Full nội thất đẹp - Sang trọng.', 'Nội thất đầy đủ, nhà đẹp.',\n",
              "       'Trang bị đầy đủ nội thất; Tivi, sofa, giường nêm, tủ quần áo, bàn làm việc.',\n",
              "       'Bàn giao đầy đủ trần, sàn, điều hòa, PCCC.',\n",
              "       'Full. Nội thất cao cấp cực đẹp.',\n",
              "       'Nội thất đầy đủ đồ cơ bản: Điều hoà, nóng lạnh, tủ bếp, rèm cửa, giàn phơi. - Nội thất đủ đồ cơ bản.',\n",
              "       'Đầy đủ - Đồ gỗ: Giường, tủ quần áo, bàn làm việc, kệ giầy, giá sách, bàn ăn (sofa).',\n",
              "       'NTCB', 'Nội thất tùy nhu cầu', 'Nội thất tiêu chuẩn',\n",
              "       'Nội thất cơ bản', 'Nội thất CĐT.', 'Nội thất cao cấp mới đẹp.',\n",
              "       'Full đồ', 'Nội thất cao cấp, mới 100%.', 'CƠ BẢN',\n",
              "       'Sẵn trần, điều hòa và hệ thống đèn điện.',\n",
              "       'Đầy đủ nội thất sang trọng'], dtype=object)"
            ]
          },
          "metadata": {},
          "execution_count": 49
        }
      ]
    },
    {
      "cell_type": "markdown",
      "source": [
        "I categorize the Furniture information into the following group:\n",
        "- Unfurnished\n",
        "- Basic\n",
        "- Fully Furnished\n",
        "- High-end\n",
        "- Unspecified"
      ],
      "metadata": {
        "id": "EIqy_vOwckgF"
      }
    },
    {
      "cell_type": "code",
      "source": [
        "def categorize_furniture(furniture_description):\n",
        "    if pd.isna(furniture_description):\n",
        "        return 'Unspecified'\n",
        "\n",
        "    description = furniture_description.lower()\n",
        "\n",
        "    if 'không nội thất' in description or 'nhà trống' in description or 'nguyên bản' in description:\n",
        "        return 'Unfurnished'\n",
        "    elif 'cơ bản' in description or 'ntcb' in description or 'nội thất cơ bản' in description:\n",
        "        return 'Basic'\n",
        "    elif 'full' in description or 'đầy đủ' in description or 'full nội thất' in description or 'xách vali vào ở luôn' in description:\n",
        "        return 'Fully Furnished'\n",
        "    elif 'cao cấp' in description or 'nội thất cao cấp' in description or 'châu âu' in description:\n",
        "        return 'High-end'\n",
        "    else:\n",
        "        return 'Unspecified'"
      ],
      "metadata": {
        "id": "77IC1Qh_bfET"
      },
      "execution_count": 50,
      "outputs": []
    },
    {
      "cell_type": "code",
      "source": [
        "df['Furniture'] = df['Furniture'].apply(categorize_furniture)"
      ],
      "metadata": {
        "id": "kGao5EQCdEcW"
      },
      "execution_count": 51,
      "outputs": []
    },
    {
      "cell_type": "markdown",
      "source": [
        "## 4. Preprocessing for Numbers collumns"
      ],
      "metadata": {
        "id": "xqLPxJtjdK9_"
      }
    },
    {
      "cell_type": "markdown",
      "source": [
        "### 4.1 Area"
      ],
      "metadata": {
        "id": "i-1fhnhBdjDF"
      }
    },
    {
      "cell_type": "markdown",
      "source": [
        "All unit is square meter"
      ],
      "metadata": {
        "id": "1-cbHSW_e0JD"
      }
    },
    {
      "cell_type": "code",
      "source": [
        "df['Area'] = df['Area'].apply(lambda x: float(re.search(r'\\d+(\\.\\d+)?', str(x)).group(0)) if pd.notna(x) and re.search(r'\\d+(\\.\\d+)?', str(x)) else None)"
      ],
      "metadata": {
        "id": "fguydLXmQ4w4"
      },
      "execution_count": 58,
      "outputs": []
    },
    {
      "cell_type": "code",
      "source": [
        "df['Area'].sample(5)"
      ],
      "metadata": {
        "colab": {
          "base_uri": "https://localhost:8080/",
          "height": 241
        },
        "id": "9SzVBxhNd4eS",
        "outputId": "b1856198-1e56-4bf5-ce41-69e5c56f0d3c"
      },
      "execution_count": 59,
      "outputs": [
        {
          "output_type": "execute_result",
          "data": {
            "text/plain": [
              "1464     60.0\n",
              "524     114.0\n",
              "990      64.0\n",
              "1885     50.0\n",
              "533     100.0\n",
              "Name: Area, dtype: float64"
            ],
            "text/html": [
              "<div>\n",
              "<style scoped>\n",
              "    .dataframe tbody tr th:only-of-type {\n",
              "        vertical-align: middle;\n",
              "    }\n",
              "\n",
              "    .dataframe tbody tr th {\n",
              "        vertical-align: top;\n",
              "    }\n",
              "\n",
              "    .dataframe thead th {\n",
              "        text-align: right;\n",
              "    }\n",
              "</style>\n",
              "<table border=\"1\" class=\"dataframe\">\n",
              "  <thead>\n",
              "    <tr style=\"text-align: right;\">\n",
              "      <th></th>\n",
              "      <th>Area</th>\n",
              "    </tr>\n",
              "  </thead>\n",
              "  <tbody>\n",
              "    <tr>\n",
              "      <th>1464</th>\n",
              "      <td>60.0</td>\n",
              "    </tr>\n",
              "    <tr>\n",
              "      <th>524</th>\n",
              "      <td>114.0</td>\n",
              "    </tr>\n",
              "    <tr>\n",
              "      <th>990</th>\n",
              "      <td>64.0</td>\n",
              "    </tr>\n",
              "    <tr>\n",
              "      <th>1885</th>\n",
              "      <td>50.0</td>\n",
              "    </tr>\n",
              "    <tr>\n",
              "      <th>533</th>\n",
              "      <td>100.0</td>\n",
              "    </tr>\n",
              "  </tbody>\n",
              "</table>\n",
              "</div><br><label><b>dtype:</b> float64</label>"
            ]
          },
          "metadata": {},
          "execution_count": 59
        }
      ]
    },
    {
      "cell_type": "markdown",
      "source": [
        "### 4.2 Price                   "
      ],
      "metadata": {
        "id": "-RyEbtt6f8DL"
      }
    },
    {
      "cell_type": "code",
      "source": [
        "df['Price'].sample(5)"
      ],
      "metadata": {
        "colab": {
          "base_uri": "https://localhost:8080/",
          "height": 241
        },
        "id": "QSWZZ8Lsfwyi",
        "outputId": "1835aaae-e2db-4f4f-ba90-dd05ce089d9c"
      },
      "execution_count": 60,
      "outputs": [
        {
          "output_type": "execute_result",
          "data": {
            "text/plain": [
              "1204       200 nghìn/m²\n",
              "469                 NaN\n",
              "628       9 triệu/tháng\n",
              "440      50 triệu/tháng\n",
              "1268    167 triệu/tháng\n",
              "Name: Price, dtype: object"
            ],
            "text/html": [
              "<div>\n",
              "<style scoped>\n",
              "    .dataframe tbody tr th:only-of-type {\n",
              "        vertical-align: middle;\n",
              "    }\n",
              "\n",
              "    .dataframe tbody tr th {\n",
              "        vertical-align: top;\n",
              "    }\n",
              "\n",
              "    .dataframe thead th {\n",
              "        text-align: right;\n",
              "    }\n",
              "</style>\n",
              "<table border=\"1\" class=\"dataframe\">\n",
              "  <thead>\n",
              "    <tr style=\"text-align: right;\">\n",
              "      <th></th>\n",
              "      <th>Price</th>\n",
              "    </tr>\n",
              "  </thead>\n",
              "  <tbody>\n",
              "    <tr>\n",
              "      <th>1204</th>\n",
              "      <td>200 nghìn/m²</td>\n",
              "    </tr>\n",
              "    <tr>\n",
              "      <th>469</th>\n",
              "      <td>NaN</td>\n",
              "    </tr>\n",
              "    <tr>\n",
              "      <th>628</th>\n",
              "      <td>9 triệu/tháng</td>\n",
              "    </tr>\n",
              "    <tr>\n",
              "      <th>440</th>\n",
              "      <td>50 triệu/tháng</td>\n",
              "    </tr>\n",
              "    <tr>\n",
              "      <th>1268</th>\n",
              "      <td>167 triệu/tháng</td>\n",
              "    </tr>\n",
              "  </tbody>\n",
              "</table>\n",
              "</div><br><label><b>dtype:</b> object</label>"
            ]
          },
          "metadata": {},
          "execution_count": 60
        }
      ]
    },
    {
      "cell_type": "code",
      "source": [
        "df['Price'].str.split(' ').apply(lambda x: x[1]).unique()"
      ],
      "metadata": {
        "colab": {
          "base_uri": "https://localhost:8080/"
        },
        "id": "HhV4btINgFpq",
        "outputId": "516ded49-1e36-41f5-9340-83d25895f904"
      },
      "execution_count": 56,
      "outputs": [
        {
          "output_type": "execute_result",
          "data": {
            "text/plain": [
              "array(['thuận', 'triệu/tháng', 'nghìn/m²', 'nghìn/tháng', 'triệu/m²'],\n",
              "      dtype=object)"
            ]
          },
          "metadata": {},
          "execution_count": 56
        }
      ]
    },
    {
      "cell_type": "markdown",
      "source": [
        "We will convert them into a single price.  \n",
        "For triệu/tháng, multiply by 1,000,000.  \n",
        "For nghìn/tháng, multiply by 1,000.   \n",
        "For nghìn/m², multiply by 1,000 and then by the Area.   \n",
        "For triệu/m², multiply by 1,000,000 and then by the Area.   \n",
        "Set \"Thỏa thuận\" to NaN."
      ],
      "metadata": {
        "id": "UmZImKdtgYRb"
      }
    },
    {
      "cell_type": "code",
      "source": [
        "df['Price'] = df['Price'].replace('Thỏa thuận', np.nan)\n",
        "\n",
        "\n",
        "df['Price_Numeric'] = df['Price'].str.extract(r'(\\d*\\.?\\d+)\\s*(.*)')[0].astype(float)\n",
        "df['Unit'] = df['Price'].str.extract(r'(\\d*\\.?\\d+)\\s*(.*)')[1]\n",
        "\n",
        "\n",
        "df['Price'] = np.where(df['Unit'].str.contains('triệu/tháng'), df['Price_Numeric'] * 1_000_000,\n",
        "                np.where(df['Unit'].str.contains('nghìn/tháng'), df['Price_Numeric'] * 1_000,\n",
        "                np.where(df['Unit'].str.contains('nghìn/m²'), df['Price_Numeric'] * 1_000 * df['Area'],\n",
        "                np.where(df['Unit'].str.contains('triệu/m²'), df['Price_Numeric'] * 1_000_000 * df['Area'],\n",
        "                np.nan))))\n",
        "\n",
        "df.drop(['Price_Numeric', 'Unit'], axis=1, inplace=True)"
      ],
      "metadata": {
        "id": "w_YntttJgRbm"
      },
      "execution_count": 61,
      "outputs": []
    },
    {
      "cell_type": "code",
      "source": [
        "df['Price'].unique()"
      ],
      "metadata": {
        "colab": {
          "base_uri": "https://localhost:8080/"
        },
        "id": "3G5iXjMtjToZ",
        "outputId": "5a2ed61f-e815-49f4-afdd-30f156da9b76"
      },
      "execution_count": 62,
      "outputs": [
        {
          "output_type": "execute_result",
          "data": {
            "text/plain": [
              "array([        nan, 5.00000e+07, 4.00000e+06, 5.00000e+06, 1.20000e+07,\n",
              "       9.00000e+06, 7.00000e+06, 1.30000e+07, 8.00000e+06, 1.60000e+07,\n",
              "       3.00000e+07, 1.50000e+07, 1.10000e+07, 2.20000e+07, 1.40000e+07,\n",
              "       2.60000e+07, 3.20000e+07, 1.70000e+07, 5.70000e+07, 2.70000e+07,\n",
              "       1.12050e+08, 1.76400e+07, 3.50000e+07, 1.80000e+07, 1.00000e+07,\n",
              "       2.30000e+07, 6.00000e+06, 2.80000e+07, 6.50000e+07, 4.30000e+07,\n",
              "       4.00000e+07, 2.00000e+07, 7.50000e+07, 1.90000e+07, 2.50000e+07,\n",
              "       3.80000e+07, 2.40000e+07, 1.50000e+08, 5.50000e+07, 1.80000e+08,\n",
              "       8.50000e+08, 2.42000e+08, 5.10000e+07, 3.90000e+07, 4.40000e+07,\n",
              "       4.20000e+07, 3.30000e+07, 7.00000e+07, 3.00000e+06, 4.00000e+08,\n",
              "       2.50000e+08, 4.70000e+07, 2.90000e+07, 1.70000e+08, 6.10000e+07,\n",
              "       1.21000e+08, 3.60000e+07, 6.25000e+08, 1.35000e+07, 1.25000e+07,\n",
              "       2.00000e+06, 4.80000e+07, 4.00000e+05, 2.60000e+06, 1.25000e+08,\n",
              "       2.26688e+06, 3.50000e+06, 6.00000e+07, 1.75000e+08, 4.32000e+08,\n",
              "       6.60000e+07, 1.09000e+08, 1.20000e+08, 4.50000e+07, 5.00000e+08,\n",
              "       3.40000e+07, 5.50000e+08, 1.00000e+08, 2.40000e+08, 3.70000e+07,\n",
              "       1.38000e+08, 2.10000e+07, 1.00000e+06, 4.60000e+07, 4.99000e+05,\n",
              "       9.50000e+07, 1.98000e+08, 2.00000e+08, 5.49000e+09, 4.52100e+05,\n",
              "       9.00000e+07, 1.37500e+08, 1.40000e+08, 1.60000e+08, 2.95000e+08,\n",
              "       3.10000e+07, 2.80000e+08, 2.44200e+07, 9.39550e+07, 4.48000e+07,\n",
              "       7.40000e+07, 6.88500e+07, 5.80000e+07, 1.95000e+08, 4.19000e+07,\n",
              "       6.00000e+04, 8.00000e+07, 5.26500e+07, 3.70000e+08, 6.00000e+08,\n",
              "       2.04000e+05, 9.80000e+07, 1.30000e+08, 3.50000e+08, 3.00000e+08,\n",
              "       4.20000e+08, 4.70000e+08, 2.70000e+08, 8.00000e+08, 3.93300e+05,\n",
              "       1.10000e+08, 8.90000e+07, 2.96625e+08, 8.55000e+07, 4.90000e+07,\n",
              "       2.30400e+08, 1.85000e+05, 2.55000e+08, 1.15000e+07, 4.13000e+08,\n",
              "       2.45000e+05, 1.99000e+08, 1.67000e+08, 6.00000e+05, 1.37000e+08,\n",
              "       5.66000e+07, 3.75000e+07, 5.75000e+07, 8.70000e+07, 1.19000e+08,\n",
              "       9.37500e+07, 1.44000e+05, 6.80000e+07, 1.30000e+06, 8.50000e+07,\n",
              "       8.80000e+05, 6.20000e+07])"
            ]
          },
          "metadata": {},
          "execution_count": 62
        }
      ]
    },
    {
      "cell_type": "markdown",
      "source": [
        "### 4.3 Price Leval"
      ],
      "metadata": {
        "id": "3tCLujoUjtwt"
      }
    },
    {
      "cell_type": "code",
      "source": [
        "df['Price Level'].unique()"
      ],
      "metadata": {
        "colab": {
          "base_uri": "https://localhost:8080/"
        },
        "id": "V5HRDtwUjWUN",
        "outputId": "564bda75-a0ea-46e6-8ebf-2fe9361cf59d"
      },
      "execution_count": 63,
      "outputs": [
        {
          "output_type": "execute_result",
          "data": {
            "text/plain": [
              "array(['-1', '6', '3', '4', '5', '8', '7', '2', '1'], dtype=object)"
            ]
          },
          "metadata": {},
          "execution_count": 63
        }
      ]
    },
    {
      "cell_type": "markdown",
      "source": [
        "As we can see, the price level describes the price range. We are going to create a new column, 'price range,' to display the range of prices"
      ],
      "metadata": {
        "id": "_ShFnr5IkXMf"
      }
    },
    {
      "cell_type": "code",
      "source": [
        "price_ranges = {\n",
        "    -1: \"Thỏa thuận\",\n",
        "    1: \"Dưới 1 triệu\",\n",
        "    2: \"1 - 3 triệu\",\n",
        "    3: \"3 - 5 triệu\",\n",
        "    4: \"5 - 10 triệu\",\n",
        "    5: \"10 - 40 triệu\",\n",
        "    6: \"40 - 70 triệu\",\n",
        "    7: \"70 - 100 triệu\",\n",
        "    8: \"Trên 100 triệu\"\n",
        "}\n",
        "\n",
        "\n",
        "df['Price Level'] = pd.to_numeric(df['Price Level'], errors='coerce')\n",
        "df['Price Range'] = df['Price Level'].map(price_ranges)\n",
        "\n",
        "df[['Price','Price Level', 'Price Range']].sample(5)"
      ],
      "metadata": {
        "colab": {
          "base_uri": "https://localhost:8080/",
          "height": 206
        },
        "id": "TBZWol9wkWvm",
        "outputId": "0904e666-6401-42e5-edba-2bb0ece4e941"
      },
      "execution_count": 64,
      "outputs": [
        {
          "output_type": "execute_result",
          "data": {
            "text/plain": [
              "           Price  Price Level    Price Range\n",
              "1974  35000000.0            5  10 - 40 triệu\n",
              "134    6000000.0            4   5 - 10 triệu\n",
              "115          NaN           -1     Thỏa thuận\n",
              "833   16000000.0            5  10 - 40 triệu\n",
              "1344  12000000.0            5  10 - 40 triệu"
            ],
            "text/html": [
              "\n",
              "  <div id=\"df-56dd813b-2fc8-44d4-a3a9-6a0617593f3c\" class=\"colab-df-container\">\n",
              "    <div>\n",
              "<style scoped>\n",
              "    .dataframe tbody tr th:only-of-type {\n",
              "        vertical-align: middle;\n",
              "    }\n",
              "\n",
              "    .dataframe tbody tr th {\n",
              "        vertical-align: top;\n",
              "    }\n",
              "\n",
              "    .dataframe thead th {\n",
              "        text-align: right;\n",
              "    }\n",
              "</style>\n",
              "<table border=\"1\" class=\"dataframe\">\n",
              "  <thead>\n",
              "    <tr style=\"text-align: right;\">\n",
              "      <th></th>\n",
              "      <th>Price</th>\n",
              "      <th>Price Level</th>\n",
              "      <th>Price Range</th>\n",
              "    </tr>\n",
              "  </thead>\n",
              "  <tbody>\n",
              "    <tr>\n",
              "      <th>1974</th>\n",
              "      <td>35000000.0</td>\n",
              "      <td>5</td>\n",
              "      <td>10 - 40 triệu</td>\n",
              "    </tr>\n",
              "    <tr>\n",
              "      <th>134</th>\n",
              "      <td>6000000.0</td>\n",
              "      <td>4</td>\n",
              "      <td>5 - 10 triệu</td>\n",
              "    </tr>\n",
              "    <tr>\n",
              "      <th>115</th>\n",
              "      <td>NaN</td>\n",
              "      <td>-1</td>\n",
              "      <td>Thỏa thuận</td>\n",
              "    </tr>\n",
              "    <tr>\n",
              "      <th>833</th>\n",
              "      <td>16000000.0</td>\n",
              "      <td>5</td>\n",
              "      <td>10 - 40 triệu</td>\n",
              "    </tr>\n",
              "    <tr>\n",
              "      <th>1344</th>\n",
              "      <td>12000000.0</td>\n",
              "      <td>5</td>\n",
              "      <td>10 - 40 triệu</td>\n",
              "    </tr>\n",
              "  </tbody>\n",
              "</table>\n",
              "</div>\n",
              "    <div class=\"colab-df-buttons\">\n",
              "\n",
              "  <div class=\"colab-df-container\">\n",
              "    <button class=\"colab-df-convert\" onclick=\"convertToInteractive('df-56dd813b-2fc8-44d4-a3a9-6a0617593f3c')\"\n",
              "            title=\"Convert this dataframe to an interactive table.\"\n",
              "            style=\"display:none;\">\n",
              "\n",
              "  <svg xmlns=\"http://www.w3.org/2000/svg\" height=\"24px\" viewBox=\"0 -960 960 960\">\n",
              "    <path d=\"M120-120v-720h720v720H120Zm60-500h600v-160H180v160Zm220 220h160v-160H400v160Zm0 220h160v-160H400v160ZM180-400h160v-160H180v160Zm440 0h160v-160H620v160ZM180-180h160v-160H180v160Zm440 0h160v-160H620v160Z\"/>\n",
              "  </svg>\n",
              "    </button>\n",
              "\n",
              "  <style>\n",
              "    .colab-df-container {\n",
              "      display:flex;\n",
              "      gap: 12px;\n",
              "    }\n",
              "\n",
              "    .colab-df-convert {\n",
              "      background-color: #E8F0FE;\n",
              "      border: none;\n",
              "      border-radius: 50%;\n",
              "      cursor: pointer;\n",
              "      display: none;\n",
              "      fill: #1967D2;\n",
              "      height: 32px;\n",
              "      padding: 0 0 0 0;\n",
              "      width: 32px;\n",
              "    }\n",
              "\n",
              "    .colab-df-convert:hover {\n",
              "      background-color: #E2EBFA;\n",
              "      box-shadow: 0px 1px 2px rgba(60, 64, 67, 0.3), 0px 1px 3px 1px rgba(60, 64, 67, 0.15);\n",
              "      fill: #174EA6;\n",
              "    }\n",
              "\n",
              "    .colab-df-buttons div {\n",
              "      margin-bottom: 4px;\n",
              "    }\n",
              "\n",
              "    [theme=dark] .colab-df-convert {\n",
              "      background-color: #3B4455;\n",
              "      fill: #D2E3FC;\n",
              "    }\n",
              "\n",
              "    [theme=dark] .colab-df-convert:hover {\n",
              "      background-color: #434B5C;\n",
              "      box-shadow: 0px 1px 3px 1px rgba(0, 0, 0, 0.15);\n",
              "      filter: drop-shadow(0px 1px 2px rgba(0, 0, 0, 0.3));\n",
              "      fill: #FFFFFF;\n",
              "    }\n",
              "  </style>\n",
              "\n",
              "    <script>\n",
              "      const buttonEl =\n",
              "        document.querySelector('#df-56dd813b-2fc8-44d4-a3a9-6a0617593f3c button.colab-df-convert');\n",
              "      buttonEl.style.display =\n",
              "        google.colab.kernel.accessAllowed ? 'block' : 'none';\n",
              "\n",
              "      async function convertToInteractive(key) {\n",
              "        const element = document.querySelector('#df-56dd813b-2fc8-44d4-a3a9-6a0617593f3c');\n",
              "        const dataTable =\n",
              "          await google.colab.kernel.invokeFunction('convertToInteractive',\n",
              "                                                    [key], {});\n",
              "        if (!dataTable) return;\n",
              "\n",
              "        const docLinkHtml = 'Like what you see? Visit the ' +\n",
              "          '<a target=\"_blank\" href=https://colab.research.google.com/notebooks/data_table.ipynb>data table notebook</a>'\n",
              "          + ' to learn more about interactive tables.';\n",
              "        element.innerHTML = '';\n",
              "        dataTable['output_type'] = 'display_data';\n",
              "        await google.colab.output.renderOutput(dataTable, element);\n",
              "        const docLink = document.createElement('div');\n",
              "        docLink.innerHTML = docLinkHtml;\n",
              "        element.appendChild(docLink);\n",
              "      }\n",
              "    </script>\n",
              "  </div>\n",
              "\n",
              "\n",
              "<div id=\"df-98abf065-7d01-440c-8247-d71c72569f60\">\n",
              "  <button class=\"colab-df-quickchart\" onclick=\"quickchart('df-98abf065-7d01-440c-8247-d71c72569f60')\"\n",
              "            title=\"Suggest charts\"\n",
              "            style=\"display:none;\">\n",
              "\n",
              "<svg xmlns=\"http://www.w3.org/2000/svg\" height=\"24px\"viewBox=\"0 0 24 24\"\n",
              "     width=\"24px\">\n",
              "    <g>\n",
              "        <path d=\"M19 3H5c-1.1 0-2 .9-2 2v14c0 1.1.9 2 2 2h14c1.1 0 2-.9 2-2V5c0-1.1-.9-2-2-2zM9 17H7v-7h2v7zm4 0h-2V7h2v10zm4 0h-2v-4h2v4z\"/>\n",
              "    </g>\n",
              "</svg>\n",
              "  </button>\n",
              "\n",
              "<style>\n",
              "  .colab-df-quickchart {\n",
              "      --bg-color: #E8F0FE;\n",
              "      --fill-color: #1967D2;\n",
              "      --hover-bg-color: #E2EBFA;\n",
              "      --hover-fill-color: #174EA6;\n",
              "      --disabled-fill-color: #AAA;\n",
              "      --disabled-bg-color: #DDD;\n",
              "  }\n",
              "\n",
              "  [theme=dark] .colab-df-quickchart {\n",
              "      --bg-color: #3B4455;\n",
              "      --fill-color: #D2E3FC;\n",
              "      --hover-bg-color: #434B5C;\n",
              "      --hover-fill-color: #FFFFFF;\n",
              "      --disabled-bg-color: #3B4455;\n",
              "      --disabled-fill-color: #666;\n",
              "  }\n",
              "\n",
              "  .colab-df-quickchart {\n",
              "    background-color: var(--bg-color);\n",
              "    border: none;\n",
              "    border-radius: 50%;\n",
              "    cursor: pointer;\n",
              "    display: none;\n",
              "    fill: var(--fill-color);\n",
              "    height: 32px;\n",
              "    padding: 0;\n",
              "    width: 32px;\n",
              "  }\n",
              "\n",
              "  .colab-df-quickchart:hover {\n",
              "    background-color: var(--hover-bg-color);\n",
              "    box-shadow: 0 1px 2px rgba(60, 64, 67, 0.3), 0 1px 3px 1px rgba(60, 64, 67, 0.15);\n",
              "    fill: var(--button-hover-fill-color);\n",
              "  }\n",
              "\n",
              "  .colab-df-quickchart-complete:disabled,\n",
              "  .colab-df-quickchart-complete:disabled:hover {\n",
              "    background-color: var(--disabled-bg-color);\n",
              "    fill: var(--disabled-fill-color);\n",
              "    box-shadow: none;\n",
              "  }\n",
              "\n",
              "  .colab-df-spinner {\n",
              "    border: 2px solid var(--fill-color);\n",
              "    border-color: transparent;\n",
              "    border-bottom-color: var(--fill-color);\n",
              "    animation:\n",
              "      spin 1s steps(1) infinite;\n",
              "  }\n",
              "\n",
              "  @keyframes spin {\n",
              "    0% {\n",
              "      border-color: transparent;\n",
              "      border-bottom-color: var(--fill-color);\n",
              "      border-left-color: var(--fill-color);\n",
              "    }\n",
              "    20% {\n",
              "      border-color: transparent;\n",
              "      border-left-color: var(--fill-color);\n",
              "      border-top-color: var(--fill-color);\n",
              "    }\n",
              "    30% {\n",
              "      border-color: transparent;\n",
              "      border-left-color: var(--fill-color);\n",
              "      border-top-color: var(--fill-color);\n",
              "      border-right-color: var(--fill-color);\n",
              "    }\n",
              "    40% {\n",
              "      border-color: transparent;\n",
              "      border-right-color: var(--fill-color);\n",
              "      border-top-color: var(--fill-color);\n",
              "    }\n",
              "    60% {\n",
              "      border-color: transparent;\n",
              "      border-right-color: var(--fill-color);\n",
              "    }\n",
              "    80% {\n",
              "      border-color: transparent;\n",
              "      border-right-color: var(--fill-color);\n",
              "      border-bottom-color: var(--fill-color);\n",
              "    }\n",
              "    90% {\n",
              "      border-color: transparent;\n",
              "      border-bottom-color: var(--fill-color);\n",
              "    }\n",
              "  }\n",
              "</style>\n",
              "\n",
              "  <script>\n",
              "    async function quickchart(key) {\n",
              "      const quickchartButtonEl =\n",
              "        document.querySelector('#' + key + ' button');\n",
              "      quickchartButtonEl.disabled = true;  // To prevent multiple clicks.\n",
              "      quickchartButtonEl.classList.add('colab-df-spinner');\n",
              "      try {\n",
              "        const charts = await google.colab.kernel.invokeFunction(\n",
              "            'suggestCharts', [key], {});\n",
              "      } catch (error) {\n",
              "        console.error('Error during call to suggestCharts:', error);\n",
              "      }\n",
              "      quickchartButtonEl.classList.remove('colab-df-spinner');\n",
              "      quickchartButtonEl.classList.add('colab-df-quickchart-complete');\n",
              "    }\n",
              "    (() => {\n",
              "      let quickchartButtonEl =\n",
              "        document.querySelector('#df-98abf065-7d01-440c-8247-d71c72569f60 button');\n",
              "      quickchartButtonEl.style.display =\n",
              "        google.colab.kernel.accessAllowed ? 'block' : 'none';\n",
              "    })();\n",
              "  </script>\n",
              "</div>\n",
              "\n",
              "    </div>\n",
              "  </div>\n"
            ],
            "application/vnd.google.colaboratory.intrinsic+json": {
              "type": "dataframe",
              "summary": "{\n  \"name\": \"df[['Price','Price Level', 'Price Range']]\",\n  \"rows\": 5,\n  \"fields\": [\n    {\n      \"column\": \"Price\",\n      \"properties\": {\n        \"dtype\": \"number\",\n        \"std\": 12526638.282742368,\n        \"min\": 6000000.0,\n        \"max\": 35000000.0,\n        \"num_unique_values\": 4,\n        \"samples\": [\n          6000000.0,\n          12000000.0,\n          35000000.0\n        ],\n        \"semantic_type\": \"\",\n        \"description\": \"\"\n      }\n    },\n    {\n      \"column\": \"Price Level\",\n      \"properties\": {\n        \"dtype\": \"number\",\n        \"std\": 2,\n        \"min\": -1,\n        \"max\": 5,\n        \"num_unique_values\": 3,\n        \"samples\": [\n          5,\n          4,\n          -1\n        ],\n        \"semantic_type\": \"\",\n        \"description\": \"\"\n      }\n    },\n    {\n      \"column\": \"Price Range\",\n      \"properties\": {\n        \"dtype\": \"string\",\n        \"num_unique_values\": 3,\n        \"samples\": [\n          \"10 - 40 tri\\u1ec7u\",\n          \"5 - 10 tri\\u1ec7u\",\n          \"Th\\u1ecfa thu\\u1eadn\"\n        ],\n        \"semantic_type\": \"\",\n        \"description\": \"\"\n      }\n    }\n  ]\n}"
            }
          },
          "metadata": {},
          "execution_count": 64
        }
      ]
    },
    {
      "cell_type": "markdown",
      "source": [
        "### 4.4 Number of Bedrooms"
      ],
      "metadata": {
        "id": "HiwlpVSYm1aM"
      }
    },
    {
      "cell_type": "code",
      "source": [
        "df['Number of Bedrooms'].unique()"
      ],
      "metadata": {
        "colab": {
          "base_uri": "https://localhost:8080/"
        },
        "id": "Ikzz_zTEm35X",
        "outputId": "e87cb638-408d-4583-e13a-9cf8adcf3990"
      },
      "execution_count": 65,
      "outputs": [
        {
          "output_type": "execute_result",
          "data": {
            "text/plain": [
              "array(['2 phòng', nan, '1 phòng', '3 phòng', '4 phòng', '13 phòng',\n",
              "       '10 phòng', '8 phòng', '5 phòng', '9 phòng', '6 phòng', '7 phòng',\n",
              "       '21 phòng', '31 phòng', '95 phòng'], dtype=object)"
            ]
          },
          "metadata": {},
          "execution_count": 65
        }
      ]
    },
    {
      "cell_type": "code",
      "source": [
        "df['Number of Bedrooms'] = df['Number of Bedrooms'].str.extract('(\\d+)').astype(float)\n",
        "df['Number of Bedrooms'].unique()"
      ],
      "metadata": {
        "colab": {
          "base_uri": "https://localhost:8080/"
        },
        "id": "NsahULr-nNnU",
        "outputId": "c3eea4c5-3989-4ef8-dfea-8f19dfde062e"
      },
      "execution_count": 66,
      "outputs": [
        {
          "output_type": "execute_result",
          "data": {
            "text/plain": [
              "array([ 2., nan,  1.,  3.,  4., 13., 10.,  8.,  5.,  9.,  6.,  7., 21.,\n",
              "       31., 95.])"
            ]
          },
          "metadata": {},
          "execution_count": 66
        }
      ]
    },
    {
      "cell_type": "markdown",
      "source": [
        "### 4.5 Number of Toilets"
      ],
      "metadata": {
        "id": "uWv_mxoZnAZ2"
      }
    },
    {
      "cell_type": "code",
      "source": [
        "df['Number of Toilets'].unique()"
      ],
      "metadata": {
        "colab": {
          "base_uri": "https://localhost:8080/"
        },
        "id": "3aMeuhN0nFP1",
        "outputId": "dab3ae20-d759-4847-9615-4b75ab8356a5"
      },
      "execution_count": 67,
      "outputs": [
        {
          "output_type": "execute_result",
          "data": {
            "text/plain": [
              "array(['2 phòng', '18 phòng', '1 phòng', nan, '10 phòng', '8 phòng',\n",
              "       '5 phòng', '3 phòng', '13 phòng', '6 phòng', '4 phòng', '16 phòng',\n",
              "       '30 phòng', '7 phòng', '9 phòng', '32 phòng'], dtype=object)"
            ]
          },
          "metadata": {},
          "execution_count": 67
        }
      ]
    },
    {
      "cell_type": "code",
      "source": [
        "df['Number of Toilets'] = df['Number of Toilets'].str.extract('(\\d+)').astype(float)\n",
        "df['Number of Toilets'].unique()"
      ],
      "metadata": {
        "colab": {
          "base_uri": "https://localhost:8080/"
        },
        "id": "-DHaeZGJkC8O",
        "outputId": "84923108-6258-4e60-ea05-9a4746702d32"
      },
      "execution_count": 68,
      "outputs": [
        {
          "output_type": "execute_result",
          "data": {
            "text/plain": [
              "array([ 2., 18.,  1., nan, 10.,  8.,  5.,  3., 13.,  6.,  4., 16., 30.,\n",
              "        7.,  9., 32.])"
            ]
          },
          "metadata": {},
          "execution_count": 68
        }
      ]
    },
    {
      "cell_type": "markdown",
      "source": [
        "### 4.6 Number of Rooms"
      ],
      "metadata": {
        "id": "lqduME5Ynalt"
      }
    },
    {
      "cell_type": "code",
      "source": [
        "df['Number of Rooms'].unique()"
      ],
      "metadata": {
        "colab": {
          "base_uri": "https://localhost:8080/"
        },
        "id": "tMwpA89YnVsI",
        "outputId": "44a5995f-3325-41ec-beb6-0b07cf68ca18"
      },
      "execution_count": 69,
      "outputs": [
        {
          "output_type": "execute_result",
          "data": {
            "text/plain": [
              "array(['2', '-1', '1', '3', '4', '13', '10', '8', '5', '9', '6', '7',\n",
              "       '21', '31', '95'], dtype=object)"
            ]
          },
          "metadata": {},
          "execution_count": 69
        }
      ]
    },
    {
      "cell_type": "code",
      "source": [
        "df['Number of Rooms'] = df['Number of Rooms'].str.extract('(\\d+)').astype(float)\n",
        "df['Number of Rooms'].unique()"
      ],
      "metadata": {
        "colab": {
          "base_uri": "https://localhost:8080/"
        },
        "id": "gP2jdhFanjlt",
        "outputId": "27705691-f6d9-4a74-9417-230d5bb8b0c5"
      },
      "execution_count": 70,
      "outputs": [
        {
          "output_type": "execute_result",
          "data": {
            "text/plain": [
              "array([ 2.,  1.,  3.,  4., 13., 10.,  8.,  5.,  9.,  6.,  7., 21., 31.,\n",
              "       95.])"
            ]
          },
          "metadata": {},
          "execution_count": 70
        }
      ]
    },
    {
      "cell_type": "markdown",
      "source": [
        "## 5. Save processed data"
      ],
      "metadata": {
        "id": "9b7LtVgGno49"
      }
    },
    {
      "cell_type": "code",
      "source": [
        "proccessed_data = 'data/proccessed_data.csv'\n",
        "df.to_csv(proccessed_data)"
      ],
      "metadata": {
        "id": "QHk-wt-snlVv"
      },
      "execution_count": 71,
      "outputs": []
    },
    {
      "cell_type": "code",
      "source": [],
      "metadata": {
        "id": "jS5fQzQ9n3U6"
      },
      "execution_count": null,
      "outputs": []
    }
  ]
}