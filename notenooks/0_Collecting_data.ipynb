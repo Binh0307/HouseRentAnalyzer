{
  "nbformat": 4,
  "nbformat_minor": 0,
  "metadata": {
    "colab": {
      "provenance": []
    },
    "kernelspec": {
      "name": "python3",
      "display_name": "Python 3"
    },
    "language_info": {
      "name": "python"
    }
  },
  "cells": [
    {
      "cell_type": "markdown",
      "source": [
        "# I. COLLECTING DATA"
      ],
      "metadata": {
        "id": "upBQxZ9n_ABn"
      }
    },
    {
      "cell_type": "markdown",
      "source": [
        "## 1. Import necessary libraries"
      ],
      "metadata": {
        "id": "8k8nOYzE_Gby"
      }
    },
    {
      "cell_type": "code",
      "execution_count": 1,
      "metadata": {
        "colab": {
          "base_uri": "https://localhost:8080/"
        },
        "id": "M8TEdgqNRwMq",
        "outputId": "a0d7e96e-c95e-4f77-a154-820b9348781d"
      },
      "outputs": [
        {
          "output_type": "stream",
          "name": "stdout",
          "text": [
            "\u001b[2K   \u001b[90m━━━━━━━━━━━━━━━━━━━━━━━━━━━━━━━━━━━━━━━━\u001b[0m \u001b[32m9.7/9.7 MB\u001b[0m \u001b[31m34.4 MB/s\u001b[0m eta \u001b[36m0:00:00\u001b[0m\n",
            "\u001b[2K   \u001b[90m━━━━━━━━━━━━━━━━━━━━━━━━━━━━━━━━━━━━━━━━\u001b[0m \u001b[32m476.0/476.0 kB\u001b[0m \u001b[31m9.5 MB/s\u001b[0m eta \u001b[36m0:00:00\u001b[0m\n",
            "\u001b[2K   \u001b[90m━━━━━━━━━━━━━━━━━━━━━━━━━━━━━━━━━━━━━━━━\u001b[0m \u001b[32m58.3/58.3 kB\u001b[0m \u001b[31m2.3 MB/s\u001b[0m eta \u001b[36m0:00:00\u001b[0m\n",
            "\u001b[?25h"
          ]
        }
      ],
      "source": [
        "%pip install -q google-colab-selenium"
      ]
    },
    {
      "cell_type": "code",
      "source": [
        "!pip install selenium\n",
        "!apt install chromium-chromedriver\n",
        "!pip install webdriver-manager"
      ],
      "metadata": {
        "colab": {
          "base_uri": "https://localhost:8080/"
        },
        "id": "ggiaH7NrUl4T",
        "outputId": "27dad010-03bf-4ee6-d4f2-75342e42a07d"
      },
      "execution_count": 2,
      "outputs": [
        {
          "output_type": "stream",
          "name": "stdout",
          "text": [
            "Requirement already satisfied: selenium in /usr/local/lib/python3.10/dist-packages (4.25.0)\n",
            "Requirement already satisfied: urllib3<3,>=1.26 in /usr/local/lib/python3.10/dist-packages (from urllib3[socks]<3,>=1.26->selenium) (2.2.3)\n",
            "Requirement already satisfied: trio~=0.17 in /usr/local/lib/python3.10/dist-packages (from selenium) (0.26.2)\n",
            "Requirement already satisfied: trio-websocket~=0.9 in /usr/local/lib/python3.10/dist-packages (from selenium) (0.11.1)\n",
            "Requirement already satisfied: certifi>=2021.10.8 in /usr/local/lib/python3.10/dist-packages (from selenium) (2024.8.30)\n",
            "Requirement already satisfied: typing_extensions~=4.9 in /usr/local/lib/python3.10/dist-packages (from selenium) (4.12.2)\n",
            "Requirement already satisfied: websocket-client~=1.8 in /usr/local/lib/python3.10/dist-packages (from selenium) (1.8.0)\n",
            "Requirement already satisfied: attrs>=23.2.0 in /usr/local/lib/python3.10/dist-packages (from trio~=0.17->selenium) (24.2.0)\n",
            "Requirement already satisfied: sortedcontainers in /usr/local/lib/python3.10/dist-packages (from trio~=0.17->selenium) (2.4.0)\n",
            "Requirement already satisfied: idna in /usr/local/lib/python3.10/dist-packages (from trio~=0.17->selenium) (3.10)\n",
            "Requirement already satisfied: outcome in /usr/local/lib/python3.10/dist-packages (from trio~=0.17->selenium) (1.3.0.post0)\n",
            "Requirement already satisfied: sniffio>=1.3.0 in /usr/local/lib/python3.10/dist-packages (from trio~=0.17->selenium) (1.3.1)\n",
            "Requirement already satisfied: exceptiongroup in /usr/local/lib/python3.10/dist-packages (from trio~=0.17->selenium) (1.2.2)\n",
            "Requirement already satisfied: wsproto>=0.14 in /usr/local/lib/python3.10/dist-packages (from trio-websocket~=0.9->selenium) (1.2.0)\n",
            "Requirement already satisfied: pysocks!=1.5.7,<2.0,>=1.5.6 in /usr/local/lib/python3.10/dist-packages (from urllib3[socks]<3,>=1.26->selenium) (1.7.1)\n",
            "Requirement already satisfied: h11<1,>=0.9.0 in /usr/local/lib/python3.10/dist-packages (from wsproto>=0.14->trio-websocket~=0.9->selenium) (0.14.0)\n",
            "Reading package lists... Done\n",
            "Building dependency tree... Done\n",
            "Reading state information... Done\n",
            "The following additional packages will be installed:\n",
            "  apparmor chromium-browser libfuse3-3 liblzo2-2 libudev1 snapd squashfs-tools systemd-hwe-hwdb\n",
            "  udev\n",
            "Suggested packages:\n",
            "  apparmor-profiles-extra apparmor-utils fuse3 zenity | kdialog\n",
            "The following NEW packages will be installed:\n",
            "  apparmor chromium-browser chromium-chromedriver libfuse3-3 liblzo2-2 snapd squashfs-tools\n",
            "  systemd-hwe-hwdb udev\n",
            "The following packages will be upgraded:\n",
            "  libudev1\n",
            "1 upgraded, 9 newly installed, 0 to remove and 48 not upgraded.\n",
            "Need to get 28.5 MB of archives.\n",
            "After this operation, 118 MB of additional disk space will be used.\n",
            "Get:1 http://archive.ubuntu.com/ubuntu jammy-updates/main amd64 apparmor amd64 3.0.4-2ubuntu2.4 [598 kB]\n",
            "Get:2 http://archive.ubuntu.com/ubuntu jammy/main amd64 liblzo2-2 amd64 2.10-2build3 [53.7 kB]\n",
            "Get:3 http://archive.ubuntu.com/ubuntu jammy/main amd64 squashfs-tools amd64 1:4.5-3build1 [159 kB]\n",
            "Get:4 http://archive.ubuntu.com/ubuntu jammy-updates/main amd64 libudev1 amd64 249.11-0ubuntu3.12 [78.2 kB]\n",
            "Get:5 http://archive.ubuntu.com/ubuntu jammy-updates/main amd64 udev amd64 249.11-0ubuntu3.12 [1,557 kB]\n",
            "Get:6 http://archive.ubuntu.com/ubuntu jammy/main amd64 libfuse3-3 amd64 3.10.5-1build1 [81.2 kB]\n",
            "Get:7 http://archive.ubuntu.com/ubuntu jammy-updates/main amd64 snapd amd64 2.63+22.04ubuntu0.1 [25.9 MB]\n",
            "Get:8 http://archive.ubuntu.com/ubuntu jammy-updates/universe amd64 chromium-browser amd64 1:85.0.4183.83-0ubuntu2.22.04.1 [49.2 kB]\n",
            "Get:9 http://archive.ubuntu.com/ubuntu jammy-updates/universe amd64 chromium-chromedriver amd64 1:85.0.4183.83-0ubuntu2.22.04.1 [2,308 B]\n",
            "Get:10 http://archive.ubuntu.com/ubuntu jammy-updates/main amd64 systemd-hwe-hwdb all 249.11.5 [3,228 B]\n",
            "Fetched 28.5 MB in 1s (25.3 MB/s)\n",
            "Preconfiguring packages ...\n",
            "Selecting previously unselected package apparmor.\n",
            "(Reading database ... 123629 files and directories currently installed.)\n",
            "Preparing to unpack .../apparmor_3.0.4-2ubuntu2.4_amd64.deb ...\n",
            "Unpacking apparmor (3.0.4-2ubuntu2.4) ...\n",
            "Selecting previously unselected package liblzo2-2:amd64.\n",
            "Preparing to unpack .../liblzo2-2_2.10-2build3_amd64.deb ...\n",
            "Unpacking liblzo2-2:amd64 (2.10-2build3) ...\n",
            "Selecting previously unselected package squashfs-tools.\n",
            "Preparing to unpack .../squashfs-tools_1%3a4.5-3build1_amd64.deb ...\n",
            "Unpacking squashfs-tools (1:4.5-3build1) ...\n",
            "Preparing to unpack .../libudev1_249.11-0ubuntu3.12_amd64.deb ...\n",
            "Unpacking libudev1:amd64 (249.11-0ubuntu3.12) over (249.11-0ubuntu3.10) ...\n",
            "Setting up libudev1:amd64 (249.11-0ubuntu3.12) ...\n",
            "Selecting previously unselected package udev.\n",
            "(Reading database ... 123837 files and directories currently installed.)\n",
            "Preparing to unpack .../udev_249.11-0ubuntu3.12_amd64.deb ...\n",
            "Unpacking udev (249.11-0ubuntu3.12) ...\n",
            "Selecting previously unselected package libfuse3-3:amd64.\n",
            "Preparing to unpack .../libfuse3-3_3.10.5-1build1_amd64.deb ...\n",
            "Unpacking libfuse3-3:amd64 (3.10.5-1build1) ...\n",
            "Selecting previously unselected package snapd.\n",
            "Preparing to unpack .../snapd_2.63+22.04ubuntu0.1_amd64.deb ...\n",
            "Unpacking snapd (2.63+22.04ubuntu0.1) ...\n",
            "Setting up apparmor (3.0.4-2ubuntu2.4) ...\n",
            "Created symlink /etc/systemd/system/sysinit.target.wants/apparmor.service → /lib/systemd/system/apparmor.service.\n",
            "Setting up liblzo2-2:amd64 (2.10-2build3) ...\n",
            "Setting up squashfs-tools (1:4.5-3build1) ...\n",
            "Setting up udev (249.11-0ubuntu3.12) ...\n",
            "invoke-rc.d: could not determine current runlevel\n",
            "invoke-rc.d: policy-rc.d denied execution of start.\n",
            "Setting up libfuse3-3:amd64 (3.10.5-1build1) ...\n",
            "Setting up snapd (2.63+22.04ubuntu0.1) ...\n",
            "Created symlink /etc/systemd/system/multi-user.target.wants/snapd.apparmor.service → /lib/systemd/system/snapd.apparmor.service.\n",
            "Created symlink /etc/systemd/system/multi-user.target.wants/snapd.autoimport.service → /lib/systemd/system/snapd.autoimport.service.\n",
            "Created symlink /etc/systemd/system/multi-user.target.wants/snapd.core-fixup.service → /lib/systemd/system/snapd.core-fixup.service.\n",
            "Created symlink /etc/systemd/system/multi-user.target.wants/snapd.recovery-chooser-trigger.service → /lib/systemd/system/snapd.recovery-chooser-trigger.service.\n",
            "Created symlink /etc/systemd/system/multi-user.target.wants/snapd.seeded.service → /lib/systemd/system/snapd.seeded.service.\n",
            "Created symlink /etc/systemd/system/cloud-final.service.wants/snapd.seeded.service → /lib/systemd/system/snapd.seeded.service.\n",
            "Unit /lib/systemd/system/snapd.seeded.service is added as a dependency to a non-existent unit cloud-final.service.\n",
            "Created symlink /etc/systemd/system/multi-user.target.wants/snapd.service → /lib/systemd/system/snapd.service.\n",
            "Created symlink /etc/systemd/system/timers.target.wants/snapd.snap-repair.timer → /lib/systemd/system/snapd.snap-repair.timer.\n",
            "Created symlink /etc/systemd/system/sockets.target.wants/snapd.socket → /lib/systemd/system/snapd.socket.\n",
            "Created symlink /etc/systemd/system/final.target.wants/snapd.system-shutdown.service → /lib/systemd/system/snapd.system-shutdown.service.\n",
            "Selecting previously unselected package chromium-browser.\n",
            "(Reading database ... 124067 files and directories currently installed.)\n",
            "Preparing to unpack .../chromium-browser_1%3a85.0.4183.83-0ubuntu2.22.04.1_amd64.deb ...\n",
            "=> Installing the chromium snap\n",
            "==> Checking connectivity with the snap store\n",
            "===> System doesn't have a working snapd, skipping\n",
            "Unpacking chromium-browser (1:85.0.4183.83-0ubuntu2.22.04.1) ...\n",
            "Selecting previously unselected package chromium-chromedriver.\n",
            "Preparing to unpack .../chromium-chromedriver_1%3a85.0.4183.83-0ubuntu2.22.04.1_amd64.deb ...\n",
            "Unpacking chromium-chromedriver (1:85.0.4183.83-0ubuntu2.22.04.1) ...\n",
            "Selecting previously unselected package systemd-hwe-hwdb.\n",
            "Preparing to unpack .../systemd-hwe-hwdb_249.11.5_all.deb ...\n",
            "Unpacking systemd-hwe-hwdb (249.11.5) ...\n",
            "Setting up systemd-hwe-hwdb (249.11.5) ...\n",
            "Setting up chromium-browser (1:85.0.4183.83-0ubuntu2.22.04.1) ...\n",
            "update-alternatives: using /usr/bin/chromium-browser to provide /usr/bin/x-www-browser (x-www-browser) in auto mode\n",
            "update-alternatives: using /usr/bin/chromium-browser to provide /usr/bin/gnome-www-browser (gnome-www-browser) in auto mode\n",
            "Setting up chromium-chromedriver (1:85.0.4183.83-0ubuntu2.22.04.1) ...\n",
            "Processing triggers for udev (249.11-0ubuntu3.12) ...\n",
            "Processing triggers for hicolor-icon-theme (0.17-2) ...\n",
            "Processing triggers for libc-bin (2.35-0ubuntu3.4) ...\n",
            "/sbin/ldconfig.real: /usr/local/lib/libtbbbind.so.3 is not a symbolic link\n",
            "\n",
            "/sbin/ldconfig.real: /usr/local/lib/libtbb.so.12 is not a symbolic link\n",
            "\n",
            "/sbin/ldconfig.real: /usr/local/lib/libtbbmalloc_proxy.so.2 is not a symbolic link\n",
            "\n",
            "/sbin/ldconfig.real: /usr/local/lib/libtbbbind_2_0.so.3 is not a symbolic link\n",
            "\n",
            "/sbin/ldconfig.real: /usr/local/lib/libur_adapter_opencl.so.0 is not a symbolic link\n",
            "\n",
            "/sbin/ldconfig.real: /usr/local/lib/libur_adapter_level_zero.so.0 is not a symbolic link\n",
            "\n",
            "/sbin/ldconfig.real: /usr/local/lib/libtbbbind_2_5.so.3 is not a symbolic link\n",
            "\n",
            "/sbin/ldconfig.real: /usr/local/lib/libur_loader.so.0 is not a symbolic link\n",
            "\n",
            "/sbin/ldconfig.real: /usr/local/lib/libtbbmalloc.so.2 is not a symbolic link\n",
            "\n",
            "Processing triggers for man-db (2.10.2-1) ...\n",
            "Processing triggers for dbus (1.12.20-2ubuntu4.1) ...\n",
            "Collecting webdriver-manager\n",
            "  Downloading webdriver_manager-4.0.2-py2.py3-none-any.whl.metadata (12 kB)\n",
            "Requirement already satisfied: requests in /usr/local/lib/python3.10/dist-packages (from webdriver-manager) (2.32.3)\n",
            "Collecting python-dotenv (from webdriver-manager)\n",
            "  Downloading python_dotenv-1.0.1-py3-none-any.whl.metadata (23 kB)\n",
            "Requirement already satisfied: packaging in /usr/local/lib/python3.10/dist-packages (from webdriver-manager) (24.1)\n",
            "Requirement already satisfied: charset-normalizer<4,>=2 in /usr/local/lib/python3.10/dist-packages (from requests->webdriver-manager) (3.4.0)\n",
            "Requirement already satisfied: idna<4,>=2.5 in /usr/local/lib/python3.10/dist-packages (from requests->webdriver-manager) (3.10)\n",
            "Requirement already satisfied: urllib3<3,>=1.21.1 in /usr/local/lib/python3.10/dist-packages (from requests->webdriver-manager) (2.2.3)\n",
            "Requirement already satisfied: certifi>=2017.4.17 in /usr/local/lib/python3.10/dist-packages (from requests->webdriver-manager) (2024.8.30)\n",
            "Downloading webdriver_manager-4.0.2-py2.py3-none-any.whl (27 kB)\n",
            "Downloading python_dotenv-1.0.1-py3-none-any.whl (19 kB)\n",
            "Installing collected packages: python-dotenv, webdriver-manager\n",
            "Successfully installed python-dotenv-1.0.1 webdriver-manager-4.0.2\n"
          ]
        }
      ]
    },
    {
      "cell_type": "code",
      "source": [
        "\n",
        "from selenium import webdriver\n",
        "from selenium.webdriver.chrome.service import Service\n",
        "from webdriver_manager.chrome import ChromeDriverManager\n",
        "import google_colab_selenium as gs\n",
        "from selenium.webdriver.chrome.options import Options\n",
        "from selenium.webdriver.common.by import By\n",
        "from bs4 import BeautifulSoup\n",
        "import re\n",
        "import time"
      ],
      "metadata": {
        "id": "gAspZ2ZJRxBK"
      },
      "execution_count": 15,
      "outputs": []
    },
    {
      "cell_type": "markdown",
      "source": [
        "## 2 Collecting links for each property"
      ],
      "metadata": {
        "id": "k9sCBsny_RsS"
      }
    },
    {
      "cell_type": "markdown",
      "source": [
        "Check if we can collect data from `https://batdongsan.com.vn/nha-dat-ban`"
      ],
      "metadata": {
        "id": "Jj0z1F2w_YW2"
      }
    },
    {
      "cell_type": "code",
      "source": [
        "\n",
        "\n",
        "options = Options()\n",
        "\n",
        "chrome_options = Options()\n",
        "chrome_options.add_argument(\"--headless\")\n",
        "chrome_options.add_argument(\"--no-sandbox\")\n",
        "chrome_options.add_argument(\"--disable-dev-shm-usage\")\n",
        "chrome_options.add_argument(\"--disable-gpu\")\n",
        "chrome_options.add_argument(\"user-agent=Mozilla/5.0 (Windows NT 10.0; Win64; x64) AppleWebKit/537.36 (KHTML, like Gecko) Chrome/114.0.5735.90 Safari/537.36\")\n",
        "chrome_options.add_argument(\"--incognito\")\n",
        "chrome_options.add_argument(\"--disable-blink-features=AutomationControlled\")\n",
        "\n",
        "\n",
        "driver = gs.Chrome(options=chrome_options)\n",
        "driver.get('https://batdongsan.com.vn/nha-dat-ban')\n",
        "\n",
        "print(\"Page title:\", driver.title)\n",
        "\n",
        "driver.quit()"
      ],
      "metadata": {
        "colab": {
          "base_uri": "https://localhost:8080/",
          "height": 55
        },
        "id": "YBoMe0ZuR2eH",
        "outputId": "5da7fb1e-98ec-49b9-ad3c-022ea3a4930d"
      },
      "execution_count": 22,
      "outputs": [
        {
          "output_type": "display_data",
          "data": {
            "text/plain": [
              "<IPython.core.display.HTML object>"
            ],
            "text/html": [
              "\n",
              "            <div class=\"spinner-container\">\n",
              "                <div class=\"spinner\" id=\"b80a040c-e099-4c2c-a8d7-778d5f41b93f-circle\"></div>\n",
              "                <div class=\"spinner-text\" id=\"b80a040c-e099-4c2c-a8d7-778d5f41b93f-text\">Initializing Chromedriver</div>\n",
              "            </div>\n",
              "            <style>\n",
              "                @keyframes spin {\n",
              "                    from { transform: rotate(0deg); }\n",
              "                    to { transform: rotate(360deg); }\n",
              "                }\n",
              "\n",
              "                .spinner-container {\n",
              "                    display: flex;\n",
              "                    align-items: center;\n",
              "                    margin-bottom: 3px;\n",
              "                }\n",
              "\n",
              "                .spinner {\n",
              "                    border: 3px solid rgba(0, 0, 0, 0.1);\n",
              "                    border-left-color: lightblue;\n",
              "                    border-radius: 50%;\n",
              "                    width: 12px;\n",
              "                    height: 12px;\n",
              "                    animation: spin 1s linear infinite;\n",
              "                }\n",
              "\n",
              "                .spinner-text {\n",
              "                    padding-left: 6px;\n",
              "                }\n",
              "            </style>\n",
              "        "
            ]
          },
          "metadata": {}
        },
        {
          "output_type": "display_data",
          "data": {
            "text/plain": [
              "<IPython.core.display.Javascript object>"
            ],
            "application/javascript": [
              "\n",
              "            const element = document.getElementById(\"b80a040c-e099-4c2c-a8d7-778d5f41b93f-circle\");\n",
              "            element.style.border = \"3px solid limegreen\";\n",
              "            element.style.animation = \"none\";\n",
              "\n",
              "            const text = document.getElementById(\"b80a040c-e099-4c2c-a8d7-778d5f41b93f-text\");\n",
              "            text.innerText = \"Initialized Chromedriver\";\n",
              "        "
            ]
          },
          "metadata": {}
        },
        {
          "output_type": "stream",
          "name": "stdout",
          "text": [
            "Page title: Mua Bán Nhà Đất Việt Nam Giá Rẻ, Mới Nhất 2024\n"
          ]
        }
      ]
    },
    {
      "cell_type": "markdown",
      "source": [],
      "metadata": {
        "id": "H31bSAaI_lcC"
      }
    },
    {
      "cell_type": "markdown",
      "source": [
        "<a class=\"js__product-link-for-product-id\" data-product-id=\"40213426\" href=\"/cho-thue-can-ho-chung-cu-duong-nguyen-van-tiet-phuong-lai-thieu-prj-opal-skyline/-cho-studio-3tr5-1pn-4tr-2pn-4tr5-va-3pn-6tr-th-bao-phi-quan-ly-pr40213426\" title=\"Opal Skyline cho thu&#xEA; 1PN 3,3tr ; 2PN 4,4tr v&#xE0; 3PN 6tr &#x111;&#xE3; bao ph&#xED; qu&#x1EA3;n l&#xFD;\"\n",
        "\n",
        "As we can see, the direct link for each item is found in the <a> tag with the class js__product-link-for-product-id"
      ],
      "metadata": {
        "id": "ya9WKSmEBgYQ"
      }
    },
    {
      "cell_type": "code",
      "source": [
        "chrome_options = Options()\n",
        "chrome_options.add_argument(\"--headless\")\n",
        "chrome_options.add_argument(\"--no-sandbox\")\n",
        "chrome_options.add_argument(\"--disable-dev-shm-usage\")\n",
        "chrome_options.add_argument(\"--disable-gpu\")\n",
        "chrome_options.add_argument(\"user-agent=Mozilla/5.0 (Windows NT 10.0; Win64; x64) AppleWebKit/537.36 (KHTML, like Gecko) Chrome/114.0.5735.90 Safari/537.36\")\n",
        "chrome_options.add_argument(\"--incognito\")\n",
        "chrome_options.add_argument(\"--disable-blink-features=AutomationControlled\")\n",
        "\n",
        "\n",
        "driver = gs.Chrome(options=chrome_options)\n",
        "\n",
        "driver.get('https://batdongsan.com.vn/nha-dat-cho-thue')\n",
        "\n",
        "\n",
        "property_elements = driver.find_elements(By.CLASS_NAME, 'js__card')\n",
        "\n",
        "\n",
        "hrefs = [\n",
        "    element.find_element(By.CLASS_NAME, 'js__product-link-for-product-id').get_attribute('href')\n",
        "    for element in property_elements\n",
        "    if element.find_elements(By.CLASS_NAME, 'js__product-link-for-product-id')\n",
        "]\n",
        "\n",
        "\n",
        "print(\"Extracted hrefs:\", hrefs)\n",
        "\n",
        "driver.quit()\n"
      ],
      "metadata": {
        "colab": {
          "base_uri": "https://localhost:8080/"
        },
        "id": "MEEjJEEqVyPQ",
        "outputId": "15ee81c3-fb5c-4173-f615-9aab3f988480"
      },
      "execution_count": 8,
      "outputs": [
        {
          "output_type": "stream",
          "name": "stdout",
          "text": [
            "Extracted hrefs: ['https://batdongsan.com.vn/cho-thue-can-ho-chung-cu-pho-ton-duc-thang-phuong-ben-nghe-prj-vinhomes-golden-river-ba-son/c-2pn-vinmes-bason-view-vong-cung-gia-chi-23tr-bao-phi-pr40806255', 'https://batdongsan.com.vn/cho-thue-can-ho-chung-cu-duong-dien-bien-phu-phuong-22-prj-vinhomes-central-park/my-chi-chuyen-cho-ngan-han-dai-han-vh-lm81-bao-gia-khu-vuc-gio-hang-doc-quyen-pr40991291', 'https://batdongsan.com.vn/cho-thue-can-ho-chung-cu-duong-an-duong-vuong-phuong-an-lac-6-prj-the-privia/-for-rent-chuyen-gio-hang-cho-va-chuyen-nhuong-khang-dien-pr41233784', 'https://batdongsan.com.vn/cho-thue-can-ho-chung-cu-duong-nguyen-huu-tho-phuong-tan-hung-14-prj-sunrise-city/gio-hang-day-du-cac-c-dai-han-ngan-han-tai-view-gia-tu-9-5-trieu-pr41231628', 'https://batdongsan.com.vn/cho-thue-can-ho-chung-cu-duong-nguyen-van-tiet-phuong-lai-thieu-prj-opal-skyline/-cho-studio-3tr5-1pn-4tr-2pn-4tr5-va-3pn-6tr-th-bao-phi-quan-ly-pr40213426', 'https://batdongsan.com.vn/cho-thue-can-ho-chung-cu-duong-nguyen-van-tiet-phuong-lai-thieu-prj-opal-skyline/ban-quan-ly-cho-1-phong-3-5-trieu-thang-2-phong-4-5-trieu-3-phong-6-5-trieu-pr40183077', 'https://batdongsan.com.vn/cho-thue-can-ho-chung-cu-duong-dao-tri-phuong-phu-thuan-3-prj-q7-saigon-riverside/c-mat-tien-view-song-8tr-th-2pn-co-nt-lh-de-xem-nha-0931409837-pr36349444', 'https://batdongsan.com.vn/cho-thue-can-ho-chung-cu-duong-dao-tri-phuong-phu-thuan-3-prj-q7-saigon-riverside/t-c-chuyen-nhuong-cao-cap-full-noi-that-pr35101382', 'https://batdongsan.com.vn/cho-thue-can-ho-chung-cu-duong-xa-lo-ha-noi-phuong-thao-dien-prj-masteri-thao-dien/chuyen-c-ch-2pn-72m2-gia-tot-chi-16tr-th-tro-24-7-lh-e-phi-0798369788-pr35200770', 'https://batdongsan.com.vn/cho-thue-nha-rieng-xa-song-tu-tay/cho-gia-19-999-trieu-vnd-tai-truong-sa-khanh-hoa-pr41227275', 'https://batdongsan.com.vn/cho-thue-can-ho-chung-cu-xa-duong-xa-prj-vinhomes-ocean-park-gia-lam/cap-nhat-cac-c-tot-nhat-tai-vinmes-studio-1pn-2pn-3pn-pr37094839', 'https://batdongsan.com.vn/cho-thue-can-ho-chung-cu-phuong-tay-mo-prj-vinhomes-smart-city/16-10-cho-quy-30-gia-re-nhat-thi-truong-gia-chi-tu-6tr-thang-pr41225066', 'https://batdongsan.com.vn/cho-thue-can-ho-chung-cu-duong-minh-khai-phuong-vinh-tuy-prj-times-city/cho-3-ngu-du-do-toa-t11-tang-trung-ban-cong-bac-view-thoang-19tr-vao-o-luon-lh-pr41224462', 'https://batdongsan.com.vn/cho-thue-can-ho-chung-cu-duong-dai-lo-vong-cung-phuong-thu-thiem-prj-the-opera-residence/ban-quan-ly-c-1pn-25tr-2pn-30tr-3pn-65tr-gia-moi-nhat-pr41219431', 'https://batdongsan.com.vn/cho-thue-can-ho-chung-cu-duong-dai-lo-vong-cung-phuong-thu-thiem-prj-the-opera-residence/c-1-2-3-4pn-ban-giao-thiet-bi-cao-cap-view-truc-dien-song-q1-pr40158354', 'https://batdongsan.com.vn/cho-thue-can-ho-chung-cu-mini-duong-le-van-quoi-phuong-binh-tri-dong-a/c-dich-vu-moi-xay-full-noi-that-ngay-nga-tu-bon-xa-pr41197270', 'https://batdongsan.com.vn/cho-thue-can-ho-chung-cu-duong-nguyen-huu-tho-phuong-tan-hung-14-prj-sunrise-city/c-nhieu-view-1pn-13tr-2pn-16tr-3pn-23tr-pr40215772', 'https://batdongsan.com.vn/cho-thue-van-phong-duong-dang-tien-dong-phuong-trung-liet/chinh-chu-cho-mbkd-san-tai-quan-da-pr40819488', 'https://batdongsan.com.vn/cho-thue-can-ho-chung-cu-duong-ngoc-trai-2-86-xa-duong-xa-prj-vinhomes-ocean-park-gia-lam/quy-tu-studio-3pn-cho-re-nhat-thang-5-2023-tai-park-pr37090737', 'https://batdongsan.com.vn/cho-thue-can-ho-chung-cu-duong-dao-tri-phuong-phu-thuan-3-prj-q7-saigon-riverside/c-full-noi-that-gia-huu-nghi-chi-tu-7tr-lh-0965431233-pr35433593']\n"
          ]
        }
      ]
    },
    {
      "cell_type": "markdown",
      "source": [
        "Each page contains 20 links, and since we are extracting links from 120 pages, we will end up with a total of 2400 links"
      ],
      "metadata": {
        "id": "NuAX6vsRBpsW"
      }
    },
    {
      "cell_type": "code",
      "source": [
        "\n",
        "service = Service(ChromeDriverManager().install())\n",
        "driver = webdriver.Chrome(service=service, options=chrome_options)\n",
        "\n",
        "real_estate_links = []\n",
        "\n",
        "for page_number in range(1, 121):\n",
        "    url = f'https://batdongsan.com.vn/nha-dat-cho-thue/p{page_number}'\n",
        "    driver.get(url)\n",
        "\n",
        "    time.sleep(2)\n",
        "\n",
        "    property_elements = driver.find_elements(By.CLASS_NAME, 'js__card')\n",
        "\n",
        "    hrefs = [\n",
        "        element.find_element(By.CLASS_NAME, 'js__product-link-for-product-id').get_attribute('href')\n",
        "        for element in property_elements\n",
        "        if element.find_elements(By.CLASS_NAME, 'js__product-link-for-product-id')\n",
        "    ]\n",
        "\n",
        "    real_estate_links.extend(hrefs)\n",
        "\n",
        "    print(f'Page {page_number}: Found {len(hrefs)} links.')\n",
        "\n",
        "\n",
        "driver.quit()"
      ],
      "metadata": {
        "id": "JBg1aWWOWcz_"
      },
      "execution_count": null,
      "outputs": []
    },
    {
      "cell_type": "markdown",
      "source": [],
      "metadata": {
        "id": "G0v4EnY_WhVj"
      }
    },
    {
      "cell_type": "code",
      "source": [
        "print(\"Total number of links extracted:\", len(real_estate_links))"
      ],
      "metadata": {
        "id": "RDxUynMqWgyT"
      },
      "execution_count": null,
      "outputs": []
    },
    {
      "cell_type": "markdown",
      "source": [
        "We will save it to real_estate_links.txt"
      ],
      "metadata": {
        "id": "IPVH7Mo1B4wt"
      }
    },
    {
      "cell_type": "code",
      "source": [
        "file_name = 'data/real_estate_links.txt'\n",
        "\n",
        "with open(file_name, 'w', encoding='utf-8') as file:\n",
        "    for link in real_estate_links:\n",
        "        file.write(link + '\\n')\n",
        "\n",
        "print(f\"Links saved to {file_name}\")"
      ],
      "metadata": {
        "id": "d1fou8BSWmUF"
      },
      "execution_count": null,
      "outputs": []
    },
    {
      "cell_type": "markdown",
      "source": [
        "## Get detailed information"
      ],
      "metadata": {
        "id": "cO7OhVTrCJn3"
      }
    },
    {
      "cell_type": "code",
      "source": [
        "import json"
      ],
      "metadata": {
        "id": "imifO2RlWwhj"
      },
      "execution_count": 9,
      "outputs": []
    },
    {
      "cell_type": "code",
      "source": [
        "real_estate_links = []\n",
        "with open('real_estate_links.txt', 'r') as file:\n",
        "    real_estate_links = file.read().splitlines()"
      ],
      "metadata": {
        "id": "fK4FaANfWyFz"
      },
      "execution_count": 24,
      "outputs": []
    },
    {
      "cell_type": "code",
      "source": [
        "real_estate_links[2000]"
      ],
      "metadata": {
        "colab": {
          "base_uri": "https://localhost:8080/",
          "height": 36
        },
        "id": "Fssb1Dd4XDmj",
        "outputId": "bf8561c8-114d-494c-b93c-ba983f5e855b"
      },
      "execution_count": 25,
      "outputs": [
        {
          "output_type": "execute_result",
          "data": {
            "text/plain": [
              "'https://batdongsan.com.vn/cho-thue-nha-rieng-duong-doi-can-phuong-lieu-giai/chinh-chu-cho-2-tang-o-sua-dep-nhu-ho-penthouse-pr40459671'"
            ],
            "application/vnd.google.colaboratory.intrinsic+json": {
              "type": "string"
            }
          },
          "metadata": {},
          "execution_count": 25
        }
      ]
    },
    {
      "cell_type": "markdown",
      "source": [
        "We will get basic information from"
      ],
      "metadata": {
        "id": "EHKUDlnLCzDc"
      }
    },
    {
      "cell_type": "markdown",
      "source": [
        "                        <span class=\"re__pr-specs-content-item-title\">Diện tích</span>\n",
        "                        <span class=\"re__pr-specs-content-item-value\">60 m&#xB2;</span>"
      ],
      "metadata": {
        "id": "cjMDVicjC11k"
      }
    },
    {
      "cell_type": "markdown",
      "source": [
        "date poted from\n",
        "\n",
        "class=\"re__pr-short-info-item js__pr-config-item\"><span class=\"title\">Ngày đăng</span><span class=\"value\">14/10/2024</span>"
      ],
      "metadata": {
        "id": "SAvVsI0CDI9F"
      }
    },
    {
      "cell_type": "markdown",
      "source": [
        "address from  \n",
        "\n",
        "class=\"re__pr-s-info-address js__pr-address\">Dự án Bcons Polygon, Phường An Bình, Dĩ An, Bình Dương"
      ],
      "metadata": {
        "id": "rhi9dny9DP7V"
      }
    },
    {
      "cell_type": "markdown",
      "source": [
        "Additional data from\n",
        "getListingRecommendationParams: {\n",
        "                count: 20,\n",
        "                productId: 40183077,\n",
        "                price: 4500000,\n",
        "                pricePerM2: 69230.76923076923,\n",
        "                categoryId: 326,\n",
        "                cityCode: 'BD',\n",
        "                districtId: 161,\n",
        "                streetId: 1841,\n",
        "                wardId: 976,\n",
        "                projectId: 5013,\n",
        "                productType: 49,\n",
        "                area: 65,\n",
        "                wardId: 976,\n",
        "                districtId: 161,\n",
        "                cityCode: 'BD',\n",
        "                latitude: 10.9174575805664,\n",
        "                longitude: 106.710243225098\n",
        "                }\n",
        "        });"
      ],
      "metadata": {
        "id": "sBv7aewoDVBN"
      }
    },
    {
      "cell_type": "code",
      "source": [
        "def extract_property_info(link):\n",
        "    driver.get(link)\n",
        "    time.sleep(2)\n",
        "\n",
        "    soup = BeautifulSoup(driver.page_source, 'html.parser')\n",
        "\n",
        "    specs = soup.find_all('div', class_='re__pr-specs-content-item')\n",
        "    property_info = {}\n",
        "    for spec in specs:\n",
        "        title = spec.find('span', class_='re__pr-specs-content-item-title').text.strip()\n",
        "        value = spec.find('span', class_='re__pr-specs-content-item-value').text.strip()\n",
        "        property_info[title] = value\n",
        "\n",
        "    try:\n",
        "        date_posted = soup.find('div', class_='re__pr-short-info-item js__pr-config-item').find('span', class_='value').text.strip()\n",
        "    except Exception as e:\n",
        "        date_posted = \"Not available\"\n",
        "        print(f\"Error extracting date posted: {e}\")\n",
        "\n",
        "    try:\n",
        "        address = soup.find('span', class_='re__pr-s-info-address js__pr-address').text.strip()\n",
        "    except Exception as e:\n",
        "        address = \"Not available\"\n",
        "        print(f\"Error extracting address: {e}\")\n",
        "\n",
        "    product_details = {}\n",
        "    script_tag = soup.find('script', text=re.compile(r'new FrontEnd.Product.DetailsBinnova'))\n",
        "\n",
        "    if script_tag:\n",
        "        script_content = script_tag.string\n",
        "        context_value_pattern = r'contextValue:\\s*{([^}]*)}'\n",
        "        match = re.search(context_value_pattern, script_content)\n",
        "\n",
        "        if match:\n",
        "            context_value_content = match.group(1)\n",
        "            for line in context_value_content.split(','):\n",
        "                key_value = line.split(':')\n",
        "                if len(key_value) == 2:\n",
        "                    key = key_value[0].strip()\n",
        "                    value = key_value[1].strip().strip('\\'')\n",
        "                    product_details[key] = value\n",
        "\n",
        "            product_cookie_value = re.search(r'productCookieValue:\\s*\\'([^\\']+)\\'', script_content)\n",
        "            if product_cookie_value:\n",
        "                values = product_cookie_value.group(1).split('|')\n",
        "\n",
        "\n",
        "\n",
        "    return {\n",
        "        'property_info': property_info,\n",
        "        'date_posted': date_posted,\n",
        "        'address': address,\n",
        "        'product_details': product_details\n",
        "    }"
      ],
      "metadata": {
        "id": "HsOeCMGeXgfM"
      },
      "execution_count": 26,
      "outputs": []
    },
    {
      "cell_type": "code",
      "source": [
        "property_data = []"
      ],
      "metadata": {
        "id": "GUS2XIAgXFEC"
      },
      "execution_count": 27,
      "outputs": []
    },
    {
      "cell_type": "code",
      "source": [
        "service = Service(ChromeDriverManager().install())\n",
        "driver = webdriver.Chrome(service=service, options=chrome_options)\n",
        "for link in real_estate_links:\n",
        "    data = extract_property_info(link)\n",
        "    property_data.append(data)\n",
        "\n",
        "driver.quit()"
      ],
      "metadata": {
        "id": "TrQhKjQ5XG5P"
      },
      "execution_count": null,
      "outputs": []
    },
    {
      "cell_type": "markdown",
      "source": [
        "Save final data as json file"
      ],
      "metadata": {
        "id": "rjYrIcUSDuYl"
      }
    },
    {
      "cell_type": "code",
      "source": [
        "file_name = 'data/raw_data.json'\n",
        "\n",
        "with open(file_name, 'w', encoding='utf-8') as f:\n",
        "    json.dump(property_data, f, ensure_ascii=False, indent=4)\n",
        "\n",
        "print(f\"Data saved to {file_name}\")"
      ],
      "metadata": {
        "colab": {
          "base_uri": "https://localhost:8080/"
        },
        "id": "oofZpE2mXSjz",
        "outputId": "38a571e6-cce2-45ce-cdd8-b13f0cd9f73e"
      },
      "execution_count": 31,
      "outputs": [
        {
          "output_type": "stream",
          "name": "stdout",
          "text": [
            "Data saved to data/raw_data.json\n"
          ]
        }
      ]
    },
    {
      "cell_type": "code",
      "source": [],
      "metadata": {
        "id": "HFeVhH-8uUNU"
      },
      "execution_count": null,
      "outputs": []
    }
  ]
}