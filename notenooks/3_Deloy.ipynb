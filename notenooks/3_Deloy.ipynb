{
  "nbformat": 4,
  "nbformat_minor": 0,
  "metadata": {
    "colab": {
      "provenance": []
    },
    "kernelspec": {
      "name": "python3",
      "display_name": "Python 3"
    },
    "language_info": {
      "name": "python"
    },
    "widgets": {
      "application/vnd.jupyter.widget-state+json": {
        "4c227238fa8043409204b12e636a336d": {
          "model_module": "@jupyter-widgets/controls",
          "model_name": "DropdownModel",
          "model_module_version": "1.5.0",
          "state": {
            "_dom_classes": [],
            "_model_module": "@jupyter-widgets/controls",
            "_model_module_version": "1.5.0",
            "_model_name": "DropdownModel",
            "_options_labels": [
              "Căn hộ chung cư",
              "Văn phòng",
              "Chung cư mini, căn hộ dịch vụ",
              "Kho, nhà xưởng, đất",
              "Shophouse nhà phố thương mại",
              "Nhà riêng",
              "Nhà mặt phố",
              "Cửa hàng, ki ốt",
              "Nhà biệt thự, liền kề",
              "Nhà trọ, phòng trọ"
            ],
            "_view_count": null,
            "_view_module": "@jupyter-widgets/controls",
            "_view_module_version": "1.5.0",
            "_view_name": "DropdownView",
            "description": "Category:",
            "description_tooltip": null,
            "disabled": false,
            "index": 0,
            "layout": "IPY_MODEL_6e92cd75754d4c57a1e2e9067ef23952",
            "style": "IPY_MODEL_5e88f2c4167740699d7c6157e9286e76"
          }
        },
        "6e92cd75754d4c57a1e2e9067ef23952": {
          "model_module": "@jupyter-widgets/base",
          "model_name": "LayoutModel",
          "model_module_version": "1.2.0",
          "state": {
            "_model_module": "@jupyter-widgets/base",
            "_model_module_version": "1.2.0",
            "_model_name": "LayoutModel",
            "_view_count": null,
            "_view_module": "@jupyter-widgets/base",
            "_view_module_version": "1.2.0",
            "_view_name": "LayoutView",
            "align_content": null,
            "align_items": null,
            "align_self": null,
            "border": null,
            "bottom": null,
            "display": null,
            "flex": null,
            "flex_flow": null,
            "grid_area": null,
            "grid_auto_columns": null,
            "grid_auto_flow": null,
            "grid_auto_rows": null,
            "grid_column": null,
            "grid_gap": null,
            "grid_row": null,
            "grid_template_areas": null,
            "grid_template_columns": null,
            "grid_template_rows": null,
            "height": null,
            "justify_content": null,
            "justify_items": null,
            "left": null,
            "margin": null,
            "max_height": null,
            "max_width": null,
            "min_height": null,
            "min_width": null,
            "object_fit": null,
            "object_position": null,
            "order": null,
            "overflow": null,
            "overflow_x": null,
            "overflow_y": null,
            "padding": null,
            "right": null,
            "top": null,
            "visibility": null,
            "width": null
          }
        },
        "5e88f2c4167740699d7c6157e9286e76": {
          "model_module": "@jupyter-widgets/controls",
          "model_name": "DescriptionStyleModel",
          "model_module_version": "1.5.0",
          "state": {
            "_model_module": "@jupyter-widgets/controls",
            "_model_module_version": "1.5.0",
            "_model_name": "DescriptionStyleModel",
            "_view_count": null,
            "_view_module": "@jupyter-widgets/base",
            "_view_module_version": "1.2.0",
            "_view_name": "StyleView",
            "description_width": ""
          }
        },
        "ca69a66a1c7a4dd9b6d68aa84351594d": {
          "model_module": "@jupyter-widgets/controls",
          "model_name": "DropdownModel",
          "model_module_version": "1.5.0",
          "state": {
            "_dom_classes": [],
            "_model_module": "@jupyter-widgets/controls",
            "_model_module_version": "1.5.0",
            "_model_name": "DropdownModel",
            "_options_labels": [
              "Unfurnished",
              "Basic",
              "Fully Furnished",
              "High-end",
              "Unspecified"
            ],
            "_view_count": null,
            "_view_module": "@jupyter-widgets/controls",
            "_view_module_version": "1.5.0",
            "_view_name": "DropdownView",
            "description": "Furniture:",
            "description_tooltip": null,
            "disabled": false,
            "index": 3,
            "layout": "IPY_MODEL_d81159d8bfba4084957b5f7e86b3797e",
            "style": "IPY_MODEL_d5b859ca1d344349b54df4376016511f"
          }
        },
        "d81159d8bfba4084957b5f7e86b3797e": {
          "model_module": "@jupyter-widgets/base",
          "model_name": "LayoutModel",
          "model_module_version": "1.2.0",
          "state": {
            "_model_module": "@jupyter-widgets/base",
            "_model_module_version": "1.2.0",
            "_model_name": "LayoutModel",
            "_view_count": null,
            "_view_module": "@jupyter-widgets/base",
            "_view_module_version": "1.2.0",
            "_view_name": "LayoutView",
            "align_content": null,
            "align_items": null,
            "align_self": null,
            "border": null,
            "bottom": null,
            "display": null,
            "flex": null,
            "flex_flow": null,
            "grid_area": null,
            "grid_auto_columns": null,
            "grid_auto_flow": null,
            "grid_auto_rows": null,
            "grid_column": null,
            "grid_gap": null,
            "grid_row": null,
            "grid_template_areas": null,
            "grid_template_columns": null,
            "grid_template_rows": null,
            "height": null,
            "justify_content": null,
            "justify_items": null,
            "left": null,
            "margin": null,
            "max_height": null,
            "max_width": null,
            "min_height": null,
            "min_width": null,
            "object_fit": null,
            "object_position": null,
            "order": null,
            "overflow": null,
            "overflow_x": null,
            "overflow_y": null,
            "padding": null,
            "right": null,
            "top": null,
            "visibility": null,
            "width": null
          }
        },
        "d5b859ca1d344349b54df4376016511f": {
          "model_module": "@jupyter-widgets/controls",
          "model_name": "DescriptionStyleModel",
          "model_module_version": "1.5.0",
          "state": {
            "_model_module": "@jupyter-widgets/controls",
            "_model_module_version": "1.5.0",
            "_model_name": "DescriptionStyleModel",
            "_view_count": null,
            "_view_module": "@jupyter-widgets/base",
            "_view_module_version": "1.2.0",
            "_view_name": "StyleView",
            "description_width": ""
          }
        },
        "17c0ce05e333468ab601b608c8a2cee0": {
          "model_module": "@jupyter-widgets/controls",
          "model_name": "DropdownModel",
          "model_module_version": "1.5.0",
          "state": {
            "_dom_classes": [],
            "_model_module": "@jupyter-widgets/controls",
            "_model_module_version": "1.5.0",
            "_model_name": "DropdownModel",
            "_options_labels": [
              "Thành phố Hồ Chí Minh",
              "Hà Nội",
              "Bình Dương"
            ],
            "_view_count": null,
            "_view_module": "@jupyter-widgets/controls",
            "_view_module_version": "1.5.0",
            "_view_name": "DropdownView",
            "description": "City:",
            "description_tooltip": null,
            "disabled": false,
            "index": 2,
            "layout": "IPY_MODEL_5d70744e7fcb49888c6eb865bc68bb02",
            "style": "IPY_MODEL_cc8b030552f043b6a93bef6cf28e67b9"
          }
        },
        "5d70744e7fcb49888c6eb865bc68bb02": {
          "model_module": "@jupyter-widgets/base",
          "model_name": "LayoutModel",
          "model_module_version": "1.2.0",
          "state": {
            "_model_module": "@jupyter-widgets/base",
            "_model_module_version": "1.2.0",
            "_model_name": "LayoutModel",
            "_view_count": null,
            "_view_module": "@jupyter-widgets/base",
            "_view_module_version": "1.2.0",
            "_view_name": "LayoutView",
            "align_content": null,
            "align_items": null,
            "align_self": null,
            "border": null,
            "bottom": null,
            "display": null,
            "flex": null,
            "flex_flow": null,
            "grid_area": null,
            "grid_auto_columns": null,
            "grid_auto_flow": null,
            "grid_auto_rows": null,
            "grid_column": null,
            "grid_gap": null,
            "grid_row": null,
            "grid_template_areas": null,
            "grid_template_columns": null,
            "grid_template_rows": null,
            "height": null,
            "justify_content": null,
            "justify_items": null,
            "left": null,
            "margin": null,
            "max_height": null,
            "max_width": null,
            "min_height": null,
            "min_width": null,
            "object_fit": null,
            "object_position": null,
            "order": null,
            "overflow": null,
            "overflow_x": null,
            "overflow_y": null,
            "padding": null,
            "right": null,
            "top": null,
            "visibility": null,
            "width": null
          }
        },
        "cc8b030552f043b6a93bef6cf28e67b9": {
          "model_module": "@jupyter-widgets/controls",
          "model_name": "DescriptionStyleModel",
          "model_module_version": "1.5.0",
          "state": {
            "_model_module": "@jupyter-widgets/controls",
            "_model_module_version": "1.5.0",
            "_model_name": "DescriptionStyleModel",
            "_view_count": null,
            "_view_module": "@jupyter-widgets/base",
            "_view_module_version": "1.2.0",
            "_view_name": "StyleView",
            "description_width": ""
          }
        },
        "135fc29af96344d391c421394bea953d": {
          "model_module": "@jupyter-widgets/controls",
          "model_name": "DropdownModel",
          "model_module_version": "1.5.0",
          "state": {
            "_dom_classes": [],
            "_model_module": "@jupyter-widgets/controls",
            "_model_module_version": "1.5.0",
            "_model_name": "DropdownModel",
            "_options_labels": [
              "Thuận an",
              "tân uyên",
              "dĩ an",
              "bến cát",
              "thủ dầu một",
              "dầu tiếng",
              "bàu bàng",
              "phú giáo",
              "bắc tân uyên"
            ],
            "_view_count": null,
            "_view_module": "@jupyter-widgets/controls",
            "_view_module_version": "1.5.0",
            "_view_name": "DropdownView",
            "description": "District:",
            "description_tooltip": null,
            "disabled": false,
            "index": 2,
            "layout": "IPY_MODEL_18aee0f027e8494cb7997a7befa50bbf",
            "style": "IPY_MODEL_39e51848495e492b9e436bfa5338dd9e"
          }
        },
        "18aee0f027e8494cb7997a7befa50bbf": {
          "model_module": "@jupyter-widgets/base",
          "model_name": "LayoutModel",
          "model_module_version": "1.2.0",
          "state": {
            "_model_module": "@jupyter-widgets/base",
            "_model_module_version": "1.2.0",
            "_model_name": "LayoutModel",
            "_view_count": null,
            "_view_module": "@jupyter-widgets/base",
            "_view_module_version": "1.2.0",
            "_view_name": "LayoutView",
            "align_content": null,
            "align_items": null,
            "align_self": null,
            "border": null,
            "bottom": null,
            "display": null,
            "flex": null,
            "flex_flow": null,
            "grid_area": null,
            "grid_auto_columns": null,
            "grid_auto_flow": null,
            "grid_auto_rows": null,
            "grid_column": null,
            "grid_gap": null,
            "grid_row": null,
            "grid_template_areas": null,
            "grid_template_columns": null,
            "grid_template_rows": null,
            "height": null,
            "justify_content": null,
            "justify_items": null,
            "left": null,
            "margin": null,
            "max_height": null,
            "max_width": null,
            "min_height": null,
            "min_width": null,
            "object_fit": null,
            "object_position": null,
            "order": null,
            "overflow": null,
            "overflow_x": null,
            "overflow_y": null,
            "padding": null,
            "right": null,
            "top": null,
            "visibility": null,
            "width": null
          }
        },
        "39e51848495e492b9e436bfa5338dd9e": {
          "model_module": "@jupyter-widgets/controls",
          "model_name": "DescriptionStyleModel",
          "model_module_version": "1.5.0",
          "state": {
            "_model_module": "@jupyter-widgets/controls",
            "_model_module_version": "1.5.0",
            "_model_name": "DescriptionStyleModel",
            "_view_count": null,
            "_view_module": "@jupyter-widgets/base",
            "_view_module_version": "1.2.0",
            "_view_name": "StyleView",
            "description_width": ""
          }
        },
        "3b79d9ef0a7b435fb6cc53d9dc672db0": {
          "model_module": "@jupyter-widgets/controls",
          "model_name": "FloatTextModel",
          "model_module_version": "1.5.0",
          "state": {
            "_dom_classes": [],
            "_model_module": "@jupyter-widgets/controls",
            "_model_module_version": "1.5.0",
            "_model_name": "FloatTextModel",
            "_view_count": null,
            "_view_module": "@jupyter-widgets/controls",
            "_view_module_version": "1.5.0",
            "_view_name": "FloatTextView",
            "continuous_update": false,
            "description": "Area:",
            "description_tooltip": null,
            "disabled": false,
            "layout": "IPY_MODEL_0272f59967544742839552d4177a6d9e",
            "step": null,
            "style": "IPY_MODEL_d2c7da1f0b004eeca5d394f72a3909cc",
            "value": 80
          }
        },
        "0272f59967544742839552d4177a6d9e": {
          "model_module": "@jupyter-widgets/base",
          "model_name": "LayoutModel",
          "model_module_version": "1.2.0",
          "state": {
            "_model_module": "@jupyter-widgets/base",
            "_model_module_version": "1.2.0",
            "_model_name": "LayoutModel",
            "_view_count": null,
            "_view_module": "@jupyter-widgets/base",
            "_view_module_version": "1.2.0",
            "_view_name": "LayoutView",
            "align_content": null,
            "align_items": null,
            "align_self": null,
            "border": null,
            "bottom": null,
            "display": null,
            "flex": null,
            "flex_flow": null,
            "grid_area": null,
            "grid_auto_columns": null,
            "grid_auto_flow": null,
            "grid_auto_rows": null,
            "grid_column": null,
            "grid_gap": null,
            "grid_row": null,
            "grid_template_areas": null,
            "grid_template_columns": null,
            "grid_template_rows": null,
            "height": null,
            "justify_content": null,
            "justify_items": null,
            "left": null,
            "margin": null,
            "max_height": null,
            "max_width": null,
            "min_height": null,
            "min_width": null,
            "object_fit": null,
            "object_position": null,
            "order": null,
            "overflow": null,
            "overflow_x": null,
            "overflow_y": null,
            "padding": null,
            "right": null,
            "top": null,
            "visibility": null,
            "width": null
          }
        },
        "d2c7da1f0b004eeca5d394f72a3909cc": {
          "model_module": "@jupyter-widgets/controls",
          "model_name": "DescriptionStyleModel",
          "model_module_version": "1.5.0",
          "state": {
            "_model_module": "@jupyter-widgets/controls",
            "_model_module_version": "1.5.0",
            "_model_name": "DescriptionStyleModel",
            "_view_count": null,
            "_view_module": "@jupyter-widgets/base",
            "_view_module_version": "1.2.0",
            "_view_name": "StyleView",
            "description_width": ""
          }
        },
        "f726aa5fdc0540bd92ea5961d0126533": {
          "model_module": "@jupyter-widgets/controls",
          "model_name": "IntTextModel",
          "model_module_version": "1.5.0",
          "state": {
            "_dom_classes": [],
            "_model_module": "@jupyter-widgets/controls",
            "_model_module_version": "1.5.0",
            "_model_name": "IntTextModel",
            "_view_count": null,
            "_view_module": "@jupyter-widgets/controls",
            "_view_module_version": "1.5.0",
            "_view_name": "IntTextView",
            "continuous_update": false,
            "description": "Bedrooms:",
            "description_tooltip": null,
            "disabled": false,
            "layout": "IPY_MODEL_2e527a95e21c4314b8d965c58dbeb6e1",
            "step": 1,
            "style": "IPY_MODEL_41f5dea98a8e49f4ab91774be5723a1d",
            "value": 5
          }
        },
        "2e527a95e21c4314b8d965c58dbeb6e1": {
          "model_module": "@jupyter-widgets/base",
          "model_name": "LayoutModel",
          "model_module_version": "1.2.0",
          "state": {
            "_model_module": "@jupyter-widgets/base",
            "_model_module_version": "1.2.0",
            "_model_name": "LayoutModel",
            "_view_count": null,
            "_view_module": "@jupyter-widgets/base",
            "_view_module_version": "1.2.0",
            "_view_name": "LayoutView",
            "align_content": null,
            "align_items": null,
            "align_self": null,
            "border": null,
            "bottom": null,
            "display": null,
            "flex": null,
            "flex_flow": null,
            "grid_area": null,
            "grid_auto_columns": null,
            "grid_auto_flow": null,
            "grid_auto_rows": null,
            "grid_column": null,
            "grid_gap": null,
            "grid_row": null,
            "grid_template_areas": null,
            "grid_template_columns": null,
            "grid_template_rows": null,
            "height": null,
            "justify_content": null,
            "justify_items": null,
            "left": null,
            "margin": null,
            "max_height": null,
            "max_width": null,
            "min_height": null,
            "min_width": null,
            "object_fit": null,
            "object_position": null,
            "order": null,
            "overflow": null,
            "overflow_x": null,
            "overflow_y": null,
            "padding": null,
            "right": null,
            "top": null,
            "visibility": null,
            "width": null
          }
        },
        "41f5dea98a8e49f4ab91774be5723a1d": {
          "model_module": "@jupyter-widgets/controls",
          "model_name": "DescriptionStyleModel",
          "model_module_version": "1.5.0",
          "state": {
            "_model_module": "@jupyter-widgets/controls",
            "_model_module_version": "1.5.0",
            "_model_name": "DescriptionStyleModel",
            "_view_count": null,
            "_view_module": "@jupyter-widgets/base",
            "_view_module_version": "1.2.0",
            "_view_name": "StyleView",
            "description_width": ""
          }
        },
        "e1df8c98b808499b92c90117cfe61944": {
          "model_module": "@jupyter-widgets/controls",
          "model_name": "IntTextModel",
          "model_module_version": "1.5.0",
          "state": {
            "_dom_classes": [],
            "_model_module": "@jupyter-widgets/controls",
            "_model_module_version": "1.5.0",
            "_model_name": "IntTextModel",
            "_view_count": null,
            "_view_module": "@jupyter-widgets/controls",
            "_view_module_version": "1.5.0",
            "_view_name": "IntTextView",
            "continuous_update": false,
            "description": "Toilets:",
            "description_tooltip": null,
            "disabled": false,
            "layout": "IPY_MODEL_6177cc902eb84ddbaa8325b7b01a2143",
            "step": 1,
            "style": "IPY_MODEL_cffcaf5623b54901a8ca45eab19683b7",
            "value": 2
          }
        },
        "6177cc902eb84ddbaa8325b7b01a2143": {
          "model_module": "@jupyter-widgets/base",
          "model_name": "LayoutModel",
          "model_module_version": "1.2.0",
          "state": {
            "_model_module": "@jupyter-widgets/base",
            "_model_module_version": "1.2.0",
            "_model_name": "LayoutModel",
            "_view_count": null,
            "_view_module": "@jupyter-widgets/base",
            "_view_module_version": "1.2.0",
            "_view_name": "LayoutView",
            "align_content": null,
            "align_items": null,
            "align_self": null,
            "border": null,
            "bottom": null,
            "display": null,
            "flex": null,
            "flex_flow": null,
            "grid_area": null,
            "grid_auto_columns": null,
            "grid_auto_flow": null,
            "grid_auto_rows": null,
            "grid_column": null,
            "grid_gap": null,
            "grid_row": null,
            "grid_template_areas": null,
            "grid_template_columns": null,
            "grid_template_rows": null,
            "height": null,
            "justify_content": null,
            "justify_items": null,
            "left": null,
            "margin": null,
            "max_height": null,
            "max_width": null,
            "min_height": null,
            "min_width": null,
            "object_fit": null,
            "object_position": null,
            "order": null,
            "overflow": null,
            "overflow_x": null,
            "overflow_y": null,
            "padding": null,
            "right": null,
            "top": null,
            "visibility": null,
            "width": null
          }
        },
        "cffcaf5623b54901a8ca45eab19683b7": {
          "model_module": "@jupyter-widgets/controls",
          "model_name": "DescriptionStyleModel",
          "model_module_version": "1.5.0",
          "state": {
            "_model_module": "@jupyter-widgets/controls",
            "_model_module_version": "1.5.0",
            "_model_name": "DescriptionStyleModel",
            "_view_count": null,
            "_view_module": "@jupyter-widgets/base",
            "_view_module_version": "1.2.0",
            "_view_name": "StyleView",
            "description_width": ""
          }
        },
        "dcf74910f9aa46be9ebea96c09405702": {
          "model_module": "@jupyter-widgets/controls",
          "model_name": "IntTextModel",
          "model_module_version": "1.5.0",
          "state": {
            "_dom_classes": [],
            "_model_module": "@jupyter-widgets/controls",
            "_model_module_version": "1.5.0",
            "_model_name": "IntTextModel",
            "_view_count": null,
            "_view_module": "@jupyter-widgets/controls",
            "_view_module_version": "1.5.0",
            "_view_name": "IntTextView",
            "continuous_update": false,
            "description": "Rooms:",
            "description_tooltip": null,
            "disabled": false,
            "layout": "IPY_MODEL_821926138376413ca99a7d9ea9025ff2",
            "step": 1,
            "style": "IPY_MODEL_64f5208babe349afa71ce753fadb3f8c",
            "value": 10
          }
        },
        "821926138376413ca99a7d9ea9025ff2": {
          "model_module": "@jupyter-widgets/base",
          "model_name": "LayoutModel",
          "model_module_version": "1.2.0",
          "state": {
            "_model_module": "@jupyter-widgets/base",
            "_model_module_version": "1.2.0",
            "_model_name": "LayoutModel",
            "_view_count": null,
            "_view_module": "@jupyter-widgets/base",
            "_view_module_version": "1.2.0",
            "_view_name": "LayoutView",
            "align_content": null,
            "align_items": null,
            "align_self": null,
            "border": null,
            "bottom": null,
            "display": null,
            "flex": null,
            "flex_flow": null,
            "grid_area": null,
            "grid_auto_columns": null,
            "grid_auto_flow": null,
            "grid_auto_rows": null,
            "grid_column": null,
            "grid_gap": null,
            "grid_row": null,
            "grid_template_areas": null,
            "grid_template_columns": null,
            "grid_template_rows": null,
            "height": null,
            "justify_content": null,
            "justify_items": null,
            "left": null,
            "margin": null,
            "max_height": null,
            "max_width": null,
            "min_height": null,
            "min_width": null,
            "object_fit": null,
            "object_position": null,
            "order": null,
            "overflow": null,
            "overflow_x": null,
            "overflow_y": null,
            "padding": null,
            "right": null,
            "top": null,
            "visibility": null,
            "width": null
          }
        },
        "64f5208babe349afa71ce753fadb3f8c": {
          "model_module": "@jupyter-widgets/controls",
          "model_name": "DescriptionStyleModel",
          "model_module_version": "1.5.0",
          "state": {
            "_model_module": "@jupyter-widgets/controls",
            "_model_module_version": "1.5.0",
            "_model_name": "DescriptionStyleModel",
            "_view_count": null,
            "_view_module": "@jupyter-widgets/base",
            "_view_module_version": "1.2.0",
            "_view_name": "StyleView",
            "description_width": ""
          }
        },
        "8d3886661f884996bedeae0efb531b92": {
          "model_module": "@jupyter-widgets/controls",
          "model_name": "ButtonModel",
          "model_module_version": "1.5.0",
          "state": {
            "_dom_classes": [],
            "_model_module": "@jupyter-widgets/controls",
            "_model_module_version": "1.5.0",
            "_model_name": "ButtonModel",
            "_view_count": null,
            "_view_module": "@jupyter-widgets/controls",
            "_view_module_version": "1.5.0",
            "_view_name": "ButtonView",
            "button_style": "",
            "description": "Predict Price",
            "disabled": false,
            "icon": "",
            "layout": "IPY_MODEL_e709a578930945e1acc6f61e83607b91",
            "style": "IPY_MODEL_3658debff5054624995b80df92e2452c",
            "tooltip": ""
          }
        },
        "e709a578930945e1acc6f61e83607b91": {
          "model_module": "@jupyter-widgets/base",
          "model_name": "LayoutModel",
          "model_module_version": "1.2.0",
          "state": {
            "_model_module": "@jupyter-widgets/base",
            "_model_module_version": "1.2.0",
            "_model_name": "LayoutModel",
            "_view_count": null,
            "_view_module": "@jupyter-widgets/base",
            "_view_module_version": "1.2.0",
            "_view_name": "LayoutView",
            "align_content": null,
            "align_items": null,
            "align_self": null,
            "border": null,
            "bottom": null,
            "display": null,
            "flex": null,
            "flex_flow": null,
            "grid_area": null,
            "grid_auto_columns": null,
            "grid_auto_flow": null,
            "grid_auto_rows": null,
            "grid_column": null,
            "grid_gap": null,
            "grid_row": null,
            "grid_template_areas": null,
            "grid_template_columns": null,
            "grid_template_rows": null,
            "height": null,
            "justify_content": null,
            "justify_items": null,
            "left": null,
            "margin": null,
            "max_height": null,
            "max_width": null,
            "min_height": null,
            "min_width": null,
            "object_fit": null,
            "object_position": null,
            "order": null,
            "overflow": null,
            "overflow_x": null,
            "overflow_y": null,
            "padding": null,
            "right": null,
            "top": null,
            "visibility": null,
            "width": null
          }
        },
        "3658debff5054624995b80df92e2452c": {
          "model_module": "@jupyter-widgets/controls",
          "model_name": "ButtonStyleModel",
          "model_module_version": "1.5.0",
          "state": {
            "_model_module": "@jupyter-widgets/controls",
            "_model_module_version": "1.5.0",
            "_model_name": "ButtonStyleModel",
            "_view_count": null,
            "_view_module": "@jupyter-widgets/base",
            "_view_module_version": "1.2.0",
            "_view_name": "StyleView",
            "button_color": null,
            "font_weight": ""
          }
        }
      }
    }
  },
  "cells": [
    {
      "cell_type": "markdown",
      "source": [
        "# III. Deloy"
      ],
      "metadata": {
        "id": "wsc89Wzno0C1"
      }
    },
    {
      "cell_type": "markdown",
      "source": [
        "##  1. Import libraries"
      ],
      "metadata": {
        "id": "m6CmwjU8o42C"
      }
    },
    {
      "cell_type": "code",
      "execution_count": 1,
      "metadata": {
        "id": "aDpdYDw5gwQD"
      },
      "outputs": [],
      "source": [
        "import pandas as pd\n",
        "import joblib\n",
        "from sklearn.preprocessing import StandardScaler\n",
        "from google.colab import widgets\n",
        "from IPython.display import display\n",
        "import ipywidgets as widgets\n",
        "import numpy as np\n"
      ]
    },
    {
      "cell_type": "markdown",
      "source": [
        "## 2. Import model"
      ],
      "metadata": {
        "id": "MNN6qIikpBRS"
      }
    },
    {
      "cell_type": "code",
      "source": [
        "model = joblib.load('model/house_rent_model.pkl')\n",
        "scaler = joblib.load('model/scaler.pkl')"
      ],
      "metadata": {
        "id": "uwW-8mPphL8M"
      },
      "execution_count": 2,
      "outputs": []
    },
    {
      "cell_type": "markdown",
      "source": [
        "## 3. Create input field"
      ],
      "metadata": {
        "id": "u3CP1cqVpGaL"
      }
    },
    {
      "cell_type": "code",
      "source": [
        "\n",
        "category_options = [\n",
        "    'Căn hộ chung cư', 'Văn phòng', 'Chung cư mini, căn hộ dịch vụ',\n",
        "    'Kho, nhà xưởng, đất', 'Shophouse nhà phố thương mại', 'Nhà riêng',\n",
        "    'Nhà mặt phố', 'Cửa hàng, ki ốt', 'Nhà biệt thự, liền kề',\n",
        "    'Nhà trọ, phòng trọ'\n",
        "]\n",
        "\n",
        "furniture_options = ['Unfurnished', 'Basic', 'Fully Furnished', 'High-end', 'Unspecified']\n",
        "city_options = ['Thành phố Hồ Chí Minh', 'Hà Nội', 'Bình Dương']\n",
        "\n",
        "districts_hcm = [\n",
        "    'quận 1','quận 2', 'quận 3', 'quận 4', 'quận 5', 'quận 6',\n",
        "    'quận 7', 'quận 8','quận 9', 'quận 10', 'quận 11', 'quận 12',\n",
        "    'tân bình', 'bình tân', 'bình thạnh',\n",
        "    'tân phú', 'gò vấp', 'phú nhuận',\n",
        "    'bình chánh', 'hóc môn', 'cần giờ',\n",
        "    'củ chi', 'nhà bè', 'thủ đức'\n",
        "]\n",
        "\n",
        "districts_hn = [\n",
        "    'ba đình', 'cầu giấy', 'đống đa', 'hai bà trưng', 'hoàn kiếm',\n",
        "    'thanh xuân', 'hoàng mai', 'long biên', 'hà đông', 'tây hồ',\n",
        "    'nam từ liêm', 'bắc từ liêm',\n",
        "    'thanh trì', 'ba vì', 'đan phượng', 'gia lâm', 'đông anh',\n",
        "    'thường tín', 'thanh oai', 'chương mỹ', 'hoài đức', 'mỹ đức',\n",
        "    'phúc thọ', 'thạch thất', 'quốc oai', 'phú xuyên', 'ứng hòa',\n",
        "    'mê linh', 'sóc sơn', 'sơn tây'\n",
        "]\n",
        "\n",
        "districts_bd = [\n",
        "    'Thuận an', 'tân uyên', 'dĩ an', 'bến cát', 'thủ dầu một',\n",
        "    'dầu tiếng', 'bàu bàng', 'phú giáo', 'bắc tân uyên'\n",
        "]\n",
        "\n"
      ],
      "metadata": {
        "id": "gVz7hTgZhWFt"
      },
      "execution_count": 3,
      "outputs": []
    },
    {
      "cell_type": "code",
      "source": [
        "def get_district_options(city):\n",
        "    if city == 'Thành phố Hồ Chí Minh':\n",
        "        return districts_hcm\n",
        "    elif city == 'Hà Nội':\n",
        "        return districts_hn\n",
        "    elif city == 'Bình Dương':\n",
        "        return districts_bd\n",
        "    return []"
      ],
      "metadata": {
        "id": "rYJNwJy1pOUs"
      },
      "execution_count": 4,
      "outputs": []
    },
    {
      "cell_type": "code",
      "source": [
        "category_widget = widgets.Dropdown(options=category_options, description='Category:')\n",
        "furniture_widget = widgets.Dropdown(options=furniture_options, description='Furniture:')\n",
        "city_widget = widgets.Dropdown(options=city_options, description='City:')\n",
        "district_widget = widgets.Dropdown(options=[], description='District:')\n",
        "area_widget = widgets.FloatText(value=0, description='Area:')\n",
        "bedrooms_widget = widgets.IntText(value=0, description='Bedrooms:')\n",
        "toilets_widget = widgets.IntText(value=0, description='Toilets:')\n",
        "rooms_widget = widgets.IntText(value=0, description='Rooms:')"
      ],
      "metadata": {
        "id": "FO-TA4l9pV8a"
      },
      "execution_count": 5,
      "outputs": []
    },
    {
      "cell_type": "code",
      "source": [
        "def update_district_options(change):\n",
        "    district_widget.options = get_district_options(change['new'])\n",
        "    district_widget.value = None\n",
        "\n",
        "city_widget.observe(update_district_options, names='value')"
      ],
      "metadata": {
        "id": "OngVClJlphyi"
      },
      "execution_count": 6,
      "outputs": []
    },
    {
      "cell_type": "markdown",
      "source": [
        "## 4. Predict code"
      ],
      "metadata": {
        "id": "nuVmQYfnpX2z"
      }
    },
    {
      "cell_type": "code",
      "source": [
        "def predict_price(b):\n",
        "    input_data = {\n",
        "        'Category': category_widget.value,\n",
        "        'Furniture': furniture_widget.value,\n",
        "        'City': city_widget.value,\n",
        "        'District': district_widget.value.capitalize(),\n",
        "        'Area': area_widget.value,\n",
        "        'Number of Bedrooms': bedrooms_widget.value,\n",
        "        'Number of Toilets': toilets_widget.value,\n",
        "        'Number of Rooms': rooms_widget.value\n",
        "    }\n",
        "\n",
        "    numerical_columns = ['Area', 'Number of Bedrooms', 'Number of Toilets']\n",
        "\n",
        "    input_df = pd.DataFrame([input_data])\n",
        "\n",
        "    input_encoded = pd.get_dummies(input_df, columns=['Category', 'Furniture', 'City', 'District'],\n",
        "                                   prefix=['Category', 'Furniture', 'City', 'District'])\n",
        "\n",
        "    model_feature_names = model.get_booster().feature_names if hasattr(model, 'get_booster') else model.feature_names_in_\n",
        "\n",
        "    for col in model_feature_names:\n",
        "        if col not in input_encoded.columns:\n",
        "            input_encoded[col] = 0\n",
        "\n",
        "\n",
        "    input_encoded = input_encoded.reindex(columns=model_feature_names, fill_value=0)\n",
        "\n",
        "\n",
        "    input_encoded[numerical_columns] = scaler.transform(input_encoded[numerical_columns])\n",
        "\n",
        "    predicted_price = model.predict(input_encoded)*1_000_000\n",
        "    print(f\"Predicted Price: {predicted_price[0]:,.2f} VND\")\n",
        "\n",
        "\n"
      ],
      "metadata": {
        "id": "MzOB1YWeowd7"
      },
      "execution_count": 14,
      "outputs": []
    },
    {
      "cell_type": "markdown",
      "source": [
        "## 5. Input Data Here"
      ],
      "metadata": {
        "id": "fCvmTWWbpjVi"
      }
    },
    {
      "cell_type": "code",
      "source": [
        "display(category_widget, furniture_widget, city_widget, district_widget, area_widget, bedrooms_widget, toilets_widget, rooms_widget)\n",
        "\n"
      ],
      "metadata": {
        "colab": {
          "base_uri": "https://localhost:8080/",
          "height": 259,
          "referenced_widgets": [
            "4c227238fa8043409204b12e636a336d",
            "6e92cd75754d4c57a1e2e9067ef23952",
            "5e88f2c4167740699d7c6157e9286e76",
            "ca69a66a1c7a4dd9b6d68aa84351594d",
            "d81159d8bfba4084957b5f7e86b3797e",
            "d5b859ca1d344349b54df4376016511f",
            "17c0ce05e333468ab601b608c8a2cee0",
            "5d70744e7fcb49888c6eb865bc68bb02",
            "cc8b030552f043b6a93bef6cf28e67b9",
            "135fc29af96344d391c421394bea953d",
            "18aee0f027e8494cb7997a7befa50bbf",
            "39e51848495e492b9e436bfa5338dd9e",
            "3b79d9ef0a7b435fb6cc53d9dc672db0",
            "0272f59967544742839552d4177a6d9e",
            "d2c7da1f0b004eeca5d394f72a3909cc",
            "f726aa5fdc0540bd92ea5961d0126533",
            "2e527a95e21c4314b8d965c58dbeb6e1",
            "41f5dea98a8e49f4ab91774be5723a1d",
            "e1df8c98b808499b92c90117cfe61944",
            "6177cc902eb84ddbaa8325b7b01a2143",
            "cffcaf5623b54901a8ca45eab19683b7",
            "dcf74910f9aa46be9ebea96c09405702",
            "821926138376413ca99a7d9ea9025ff2",
            "64f5208babe349afa71ce753fadb3f8c"
          ]
        },
        "id": "5IPXRnjwjZmR",
        "outputId": "28693051-3981-4047-ce43-b97fe408a311"
      },
      "execution_count": 8,
      "outputs": [
        {
          "output_type": "display_data",
          "data": {
            "text/plain": [
              "Dropdown(description='Category:', options=('Căn hộ chung cư', 'Văn phòng', 'Chung cư mini, căn hộ dịch vụ', 'K…"
            ],
            "application/vnd.jupyter.widget-view+json": {
              "version_major": 2,
              "version_minor": 0,
              "model_id": "4c227238fa8043409204b12e636a336d"
            }
          },
          "metadata": {}
        },
        {
          "output_type": "display_data",
          "data": {
            "text/plain": [
              "Dropdown(description='Furniture:', options=('Unfurnished', 'Basic', 'Fully Furnished', 'High-end', 'Unspecifie…"
            ],
            "application/vnd.jupyter.widget-view+json": {
              "version_major": 2,
              "version_minor": 0,
              "model_id": "ca69a66a1c7a4dd9b6d68aa84351594d"
            }
          },
          "metadata": {}
        },
        {
          "output_type": "display_data",
          "data": {
            "text/plain": [
              "Dropdown(description='City:', options=('Thành phố Hồ Chí Minh', 'Hà Nội', 'Bình Dương'), value='Thành phố Hồ C…"
            ],
            "application/vnd.jupyter.widget-view+json": {
              "version_major": 2,
              "version_minor": 0,
              "model_id": "17c0ce05e333468ab601b608c8a2cee0"
            }
          },
          "metadata": {}
        },
        {
          "output_type": "display_data",
          "data": {
            "text/plain": [
              "Dropdown(description='District:', options=(), value=None)"
            ],
            "application/vnd.jupyter.widget-view+json": {
              "version_major": 2,
              "version_minor": 0,
              "model_id": "135fc29af96344d391c421394bea953d"
            }
          },
          "metadata": {}
        },
        {
          "output_type": "display_data",
          "data": {
            "text/plain": [
              "FloatText(value=0.0, description='Area:')"
            ],
            "application/vnd.jupyter.widget-view+json": {
              "version_major": 2,
              "version_minor": 0,
              "model_id": "3b79d9ef0a7b435fb6cc53d9dc672db0"
            }
          },
          "metadata": {}
        },
        {
          "output_type": "display_data",
          "data": {
            "text/plain": [
              "IntText(value=0, description='Bedrooms:')"
            ],
            "application/vnd.jupyter.widget-view+json": {
              "version_major": 2,
              "version_minor": 0,
              "model_id": "f726aa5fdc0540bd92ea5961d0126533"
            }
          },
          "metadata": {}
        },
        {
          "output_type": "display_data",
          "data": {
            "text/plain": [
              "IntText(value=0, description='Toilets:')"
            ],
            "application/vnd.jupyter.widget-view+json": {
              "version_major": 2,
              "version_minor": 0,
              "model_id": "e1df8c98b808499b92c90117cfe61944"
            }
          },
          "metadata": {}
        },
        {
          "output_type": "display_data",
          "data": {
            "text/plain": [
              "IntText(value=0, description='Rooms:')"
            ],
            "application/vnd.jupyter.widget-view+json": {
              "version_major": 2,
              "version_minor": 0,
              "model_id": "dcf74910f9aa46be9ebea96c09405702"
            }
          },
          "metadata": {}
        }
      ]
    },
    {
      "cell_type": "code",
      "source": [
        "predict_button = widgets.Button(description=\"Predict Price\")\n",
        "predict_button.on_click(predict_price)\n",
        "\n",
        "\n",
        "display(predict_button)"
      ],
      "metadata": {
        "colab": {
          "base_uri": "https://localhost:8080/",
          "height": 118,
          "referenced_widgets": [
            "8d3886661f884996bedeae0efb531b92",
            "e709a578930945e1acc6f61e83607b91",
            "3658debff5054624995b80df92e2452c"
          ]
        },
        "id": "TOk87VeWi7Zi",
        "outputId": "a864054e-c01c-47aa-e000-f2b12a15e7c7"
      },
      "execution_count": 16,
      "outputs": [
        {
          "output_type": "display_data",
          "data": {
            "text/plain": [
              "Button(description='Predict Price', style=ButtonStyle())"
            ],
            "application/vnd.jupyter.widget-view+json": {
              "version_major": 2,
              "version_minor": 0,
              "model_id": "8d3886661f884996bedeae0efb531b92"
            }
          },
          "metadata": {}
        },
        {
          "output_type": "stream",
          "name": "stdout",
          "text": [
            "Predicted Price: 17,943,514.80 VND\n",
            "Predicted Price: 5,773,965.12 VND\n",
            "Predicted Price: 6,826,874.00 VND\n",
            "Predicted Price: 8,107,024.48 VND\n"
          ]
        }
      ]
    },
    {
      "cell_type": "code",
      "source": [],
      "metadata": {
        "id": "t9MnAnXBi_ZM"
      },
      "execution_count": null,
      "outputs": []
    }
  ]
}